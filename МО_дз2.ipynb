{
 "cells": [
  {
   "cell_type": "code",
   "execution_count": 2,
   "id": "d6f21652-af89-4349-8aea-ef11a02e3bf0",
   "metadata": {
    "id": "d6f21652-af89-4349-8aea-ef11a02e3bf0"
   },
   "outputs": [],
   "source": [
    "import numpy as np\n",
    "import pandas as pd\n",
    "import matplotlib.pyplot as plt\n",
    "import seaborn as sns\n",
    "\n",
    "from datetime import date\n",
    "from sklearn.linear_model import LinearRegression\n",
    "from sklearn.preprocessing import FunctionTransformer\n",
    "from sklearn.metrics import mean_absolute_error\n",
    "\n",
    "\n",
    "%matplotlib inline"
   ]
  },
  {
   "cell_type": "markdown",
   "id": "798a1c9f-127f-42fb-92f9-05d638f70e52",
   "metadata": {
    "jp-MarkdownHeadingCollapsed": true
   },
   "source": [
    "# Удаление дубликатов в данных"
   ]
  },
  {
   "cell_type": "code",
   "execution_count": 4,
   "id": "98d48bd8-57a1-4930-b5c1-8d332d471f64",
   "metadata": {
    "colab": {
     "base_uri": "https://localhost:8080/",
     "height": 269
    },
    "id": "98d48bd8-57a1-4930-b5c1-8d332d471f64",
    "outputId": "8cd41046-64d0-4de3-b9f5-3de9c0e46146"
   },
   "outputs": [
    {
     "data": {
      "text/html": [
       "<div>\n",
       "<style scoped>\n",
       "    .dataframe tbody tr th:only-of-type {\n",
       "        vertical-align: middle;\n",
       "    }\n",
       "\n",
       "    .dataframe tbody tr th {\n",
       "        vertical-align: top;\n",
       "    }\n",
       "\n",
       "    .dataframe thead th {\n",
       "        text-align: right;\n",
       "    }\n",
       "</style>\n",
       "<table border=\"1\" class=\"dataframe\">\n",
       "  <thead>\n",
       "    <tr style=\"text-align: right;\">\n",
       "      <th></th>\n",
       "      <th>k1</th>\n",
       "      <th>k2</th>\n",
       "      <th>k3</th>\n",
       "      <th>k4</th>\n",
       "    </tr>\n",
       "  </thead>\n",
       "  <tbody>\n",
       "    <tr>\n",
       "      <th>0</th>\n",
       "      <td>one</td>\n",
       "      <td>1</td>\n",
       "      <td>1</td>\n",
       "      <td>1</td>\n",
       "    </tr>\n",
       "    <tr>\n",
       "      <th>1</th>\n",
       "      <td>two</td>\n",
       "      <td>1</td>\n",
       "      <td>1</td>\n",
       "      <td>1</td>\n",
       "    </tr>\n",
       "    <tr>\n",
       "      <th>2</th>\n",
       "      <td>one</td>\n",
       "      <td>2</td>\n",
       "      <td>2</td>\n",
       "      <td>1</td>\n",
       "    </tr>\n",
       "    <tr>\n",
       "      <th>3</th>\n",
       "      <td>two</td>\n",
       "      <td>3</td>\n",
       "      <td>3</td>\n",
       "      <td>1</td>\n",
       "    </tr>\n",
       "    <tr>\n",
       "      <th>4</th>\n",
       "      <td>one</td>\n",
       "      <td>3</td>\n",
       "      <td>3</td>\n",
       "      <td>1</td>\n",
       "    </tr>\n",
       "    <tr>\n",
       "      <th>5</th>\n",
       "      <td>two</td>\n",
       "      <td>4</td>\n",
       "      <td>4</td>\n",
       "      <td>1</td>\n",
       "    </tr>\n",
       "    <tr>\n",
       "      <th>6</th>\n",
       "      <td>two</td>\n",
       "      <td>4</td>\n",
       "      <td>4</td>\n",
       "      <td>1</td>\n",
       "    </tr>\n",
       "  </tbody>\n",
       "</table>\n",
       "</div>"
      ],
      "text/plain": [
       "    k1  k2  k3  k4\n",
       "0  one   1   1   1\n",
       "1  two   1   1   1\n",
       "2  one   2   2   1\n",
       "3  two   3   3   1\n",
       "4  one   3   3   1\n",
       "5  two   4   4   1\n",
       "6  two   4   4   1"
      ]
     },
     "execution_count": 4,
     "metadata": {},
     "output_type": "execute_result"
    }
   ],
   "source": [
    "data = pd.DataFrame({\"k1\": [\"one\", \"two\"] * 3 + [\"two\"], \"k2\": [1, 1, 2, 3, 3, 4, 4],\n",
    "                     \"k3\": [1, 1, 2, 3, 3, 4, 4], \"k4\":[1, 1, 1, 1, 1, 1, 1]})\n",
    "data"
   ]
  },
  {
   "cell_type": "code",
   "execution_count": 5,
   "id": "bb74a899-e100-4b5b-8739-d4d3588d8b26",
   "metadata": {
    "colab": {
     "base_uri": "https://localhost:8080/",
     "height": 303
    },
    "id": "bb74a899-e100-4b5b-8739-d4d3588d8b26",
    "outputId": "abb59550-0bd1-4427-8591-c3f577b3dcf8"
   },
   "outputs": [
    {
     "data": {
      "text/plain": [
       "0    False\n",
       "1    False\n",
       "2    False\n",
       "3    False\n",
       "4    False\n",
       "5    False\n",
       "6     True\n",
       "dtype: bool"
      ]
     },
     "execution_count": 5,
     "metadata": {},
     "output_type": "execute_result"
    }
   ],
   "source": [
    "data.duplicated()"
   ]
  },
  {
   "cell_type": "code",
   "execution_count": 6,
   "id": "cef50624-aac3-4f64-b835-e47931da670e",
   "metadata": {
    "colab": {
     "base_uri": "https://localhost:8080/",
     "height": 237
    },
    "id": "cef50624-aac3-4f64-b835-e47931da670e",
    "outputId": "38c869ea-c55b-480f-a87a-f059db1cf630"
   },
   "outputs": [
    {
     "data": {
      "text/html": [
       "<div>\n",
       "<style scoped>\n",
       "    .dataframe tbody tr th:only-of-type {\n",
       "        vertical-align: middle;\n",
       "    }\n",
       "\n",
       "    .dataframe tbody tr th {\n",
       "        vertical-align: top;\n",
       "    }\n",
       "\n",
       "    .dataframe thead th {\n",
       "        text-align: right;\n",
       "    }\n",
       "</style>\n",
       "<table border=\"1\" class=\"dataframe\">\n",
       "  <thead>\n",
       "    <tr style=\"text-align: right;\">\n",
       "      <th></th>\n",
       "      <th>k1</th>\n",
       "      <th>k2</th>\n",
       "      <th>k3</th>\n",
       "      <th>k4</th>\n",
       "    </tr>\n",
       "  </thead>\n",
       "  <tbody>\n",
       "    <tr>\n",
       "      <th>0</th>\n",
       "      <td>one</td>\n",
       "      <td>1</td>\n",
       "      <td>1</td>\n",
       "      <td>1</td>\n",
       "    </tr>\n",
       "    <tr>\n",
       "      <th>1</th>\n",
       "      <td>two</td>\n",
       "      <td>1</td>\n",
       "      <td>1</td>\n",
       "      <td>1</td>\n",
       "    </tr>\n",
       "    <tr>\n",
       "      <th>2</th>\n",
       "      <td>one</td>\n",
       "      <td>2</td>\n",
       "      <td>2</td>\n",
       "      <td>1</td>\n",
       "    </tr>\n",
       "    <tr>\n",
       "      <th>3</th>\n",
       "      <td>two</td>\n",
       "      <td>3</td>\n",
       "      <td>3</td>\n",
       "      <td>1</td>\n",
       "    </tr>\n",
       "    <tr>\n",
       "      <th>4</th>\n",
       "      <td>one</td>\n",
       "      <td>3</td>\n",
       "      <td>3</td>\n",
       "      <td>1</td>\n",
       "    </tr>\n",
       "    <tr>\n",
       "      <th>5</th>\n",
       "      <td>two</td>\n",
       "      <td>4</td>\n",
       "      <td>4</td>\n",
       "      <td>1</td>\n",
       "    </tr>\n",
       "  </tbody>\n",
       "</table>\n",
       "</div>"
      ],
      "text/plain": [
       "    k1  k2  k3  k4\n",
       "0  one   1   1   1\n",
       "1  two   1   1   1\n",
       "2  one   2   2   1\n",
       "3  two   3   3   1\n",
       "4  one   3   3   1\n",
       "5  two   4   4   1"
      ]
     },
     "execution_count": 6,
     "metadata": {},
     "output_type": "execute_result"
    }
   ],
   "source": [
    "data.drop_duplicates()"
   ]
  },
  {
   "cell_type": "code",
   "execution_count": 7,
   "id": "00f18e5b-97d2-4728-8993-fb28590196a2",
   "metadata": {
    "colab": {
     "base_uri": "https://localhost:8080/",
     "height": 269
    },
    "id": "00f18e5b-97d2-4728-8993-fb28590196a2",
    "outputId": "b5f5deba-010e-4570-d616-f25241ab57f4"
   },
   "outputs": [
    {
     "data": {
      "text/html": [
       "<div>\n",
       "<style scoped>\n",
       "    .dataframe tbody tr th:only-of-type {\n",
       "        vertical-align: middle;\n",
       "    }\n",
       "\n",
       "    .dataframe tbody tr th {\n",
       "        vertical-align: top;\n",
       "    }\n",
       "\n",
       "    .dataframe thead th {\n",
       "        text-align: right;\n",
       "    }\n",
       "</style>\n",
       "<table border=\"1\" class=\"dataframe\">\n",
       "  <thead>\n",
       "    <tr style=\"text-align: right;\">\n",
       "      <th></th>\n",
       "      <th>k1</th>\n",
       "      <th>k2</th>\n",
       "      <th>k4</th>\n",
       "    </tr>\n",
       "  </thead>\n",
       "  <tbody>\n",
       "    <tr>\n",
       "      <th>0</th>\n",
       "      <td>one</td>\n",
       "      <td>1</td>\n",
       "      <td>1</td>\n",
       "    </tr>\n",
       "    <tr>\n",
       "      <th>1</th>\n",
       "      <td>two</td>\n",
       "      <td>1</td>\n",
       "      <td>1</td>\n",
       "    </tr>\n",
       "    <tr>\n",
       "      <th>2</th>\n",
       "      <td>one</td>\n",
       "      <td>2</td>\n",
       "      <td>1</td>\n",
       "    </tr>\n",
       "    <tr>\n",
       "      <th>3</th>\n",
       "      <td>two</td>\n",
       "      <td>3</td>\n",
       "      <td>1</td>\n",
       "    </tr>\n",
       "    <tr>\n",
       "      <th>4</th>\n",
       "      <td>one</td>\n",
       "      <td>3</td>\n",
       "      <td>1</td>\n",
       "    </tr>\n",
       "    <tr>\n",
       "      <th>5</th>\n",
       "      <td>two</td>\n",
       "      <td>4</td>\n",
       "      <td>1</td>\n",
       "    </tr>\n",
       "    <tr>\n",
       "      <th>6</th>\n",
       "      <td>two</td>\n",
       "      <td>4</td>\n",
       "      <td>1</td>\n",
       "    </tr>\n",
       "  </tbody>\n",
       "</table>\n",
       "</div>"
      ],
      "text/plain": [
       "    k1 k2 k4\n",
       "0  one  1  1\n",
       "1  two  1  1\n",
       "2  one  2  1\n",
       "3  two  3  1\n",
       "4  one  3  1\n",
       "5  two  4  1\n",
       "6  two  4  1"
      ]
     },
     "execution_count": 7,
     "metadata": {},
     "output_type": "execute_result"
    }
   ],
   "source": [
    "data.T.drop_duplicates().T"
   ]
  },
  {
   "cell_type": "code",
   "execution_count": 8,
   "id": "82e65c60-6af0-4531-b097-c70fe60a8fae",
   "metadata": {
    "colab": {
     "base_uri": "https://localhost:8080/",
     "height": 269
    },
    "id": "82e65c60-6af0-4531-b097-c70fe60a8fae",
    "outputId": "5b8a27f5-2b5e-4bf6-965a-2293a6f4fcbe"
   },
   "outputs": [
    {
     "data": {
      "text/html": [
       "<div>\n",
       "<style scoped>\n",
       "    .dataframe tbody tr th:only-of-type {\n",
       "        vertical-align: middle;\n",
       "    }\n",
       "\n",
       "    .dataframe tbody tr th {\n",
       "        vertical-align: top;\n",
       "    }\n",
       "\n",
       "    .dataframe thead th {\n",
       "        text-align: right;\n",
       "    }\n",
       "</style>\n",
       "<table border=\"1\" class=\"dataframe\">\n",
       "  <thead>\n",
       "    <tr style=\"text-align: right;\">\n",
       "      <th></th>\n",
       "      <th>k1</th>\n",
       "      <th>k2</th>\n",
       "      <th>k3</th>\n",
       "    </tr>\n",
       "  </thead>\n",
       "  <tbody>\n",
       "    <tr>\n",
       "      <th>0</th>\n",
       "      <td>one</td>\n",
       "      <td>1</td>\n",
       "      <td>1</td>\n",
       "    </tr>\n",
       "    <tr>\n",
       "      <th>1</th>\n",
       "      <td>two</td>\n",
       "      <td>1</td>\n",
       "      <td>1</td>\n",
       "    </tr>\n",
       "    <tr>\n",
       "      <th>2</th>\n",
       "      <td>one</td>\n",
       "      <td>2</td>\n",
       "      <td>2</td>\n",
       "    </tr>\n",
       "    <tr>\n",
       "      <th>3</th>\n",
       "      <td>two</td>\n",
       "      <td>3</td>\n",
       "      <td>3</td>\n",
       "    </tr>\n",
       "    <tr>\n",
       "      <th>4</th>\n",
       "      <td>one</td>\n",
       "      <td>3</td>\n",
       "      <td>3</td>\n",
       "    </tr>\n",
       "    <tr>\n",
       "      <th>5</th>\n",
       "      <td>two</td>\n",
       "      <td>4</td>\n",
       "      <td>4</td>\n",
       "    </tr>\n",
       "    <tr>\n",
       "      <th>6</th>\n",
       "      <td>two</td>\n",
       "      <td>4</td>\n",
       "      <td>4</td>\n",
       "    </tr>\n",
       "  </tbody>\n",
       "</table>\n",
       "</div>"
      ],
      "text/plain": [
       "    k1  k2  k3\n",
       "0  one   1   1\n",
       "1  two   1   1\n",
       "2  one   2   2\n",
       "3  two   3   3\n",
       "4  one   3   3\n",
       "5  two   4   4\n",
       "6  two   4   4"
      ]
     },
     "execution_count": 8,
     "metadata": {},
     "output_type": "execute_result"
    }
   ],
   "source": [
    "data.drop(data.columns[data.nunique() == 1], axis=1)"
   ]
  },
  {
   "cell_type": "markdown",
   "id": "8ed2d019-412f-49b3-a582-c262fe9c1816",
   "metadata": {
    "jp-MarkdownHeadingCollapsed": true
   },
   "source": [
    "# Заполнение пропусков в данных"
   ]
  },
  {
   "cell_type": "markdown",
   "id": "113ff682-faec-4756-9583-89508f76d3a1",
   "metadata": {
    "id": "113ff682-faec-4756-9583-89508f76d3a1"
   },
   "source": [
    "Nan - маркер отсутствия данных."
   ]
  },
  {
   "cell_type": "code",
   "execution_count": 11,
   "id": "0d21c1b4-3c74-44b4-90dd-5979bb3b3678",
   "metadata": {
    "colab": {
     "base_uri": "https://localhost:8080/",
     "height": 209
    },
    "id": "0d21c1b4-3c74-44b4-90dd-5979bb3b3678",
    "outputId": "c19db1bb-baa5-4303-eaf0-9c3e8be3696c"
   },
   "outputs": [
    {
     "data": {
      "text/plain": [
       "0    1.2\n",
       "1   -3.5\n",
       "2    NaN\n",
       "3    0.0\n",
       "dtype: float64"
      ]
     },
     "execution_count": 11,
     "metadata": {},
     "output_type": "execute_result"
    }
   ],
   "source": [
    "float_data = pd.Series([1.2, -3.5, np.nan, 0])\n",
    "float_data"
   ]
  },
  {
   "cell_type": "code",
   "execution_count": 12,
   "id": "b4a12528-8045-4fb7-8df0-a310b3f0460d",
   "metadata": {
    "colab": {
     "base_uri": "https://localhost:8080/",
     "height": 209
    },
    "id": "b4a12528-8045-4fb7-8df0-a310b3f0460d",
    "outputId": "f89c49fa-d3f8-4973-b9de-7c0c12513a3a"
   },
   "outputs": [
    {
     "data": {
      "text/plain": [
       "0    False\n",
       "1    False\n",
       "2     True\n",
       "3    False\n",
       "dtype: bool"
      ]
     },
     "execution_count": 12,
     "metadata": {},
     "output_type": "execute_result"
    }
   ],
   "source": [
    "float_data.isna()"
   ]
  },
  {
   "cell_type": "code",
   "execution_count": 13,
   "id": "46e16862-037d-447b-be6a-cc499dd36c90",
   "metadata": {
    "colab": {
     "base_uri": "https://localhost:8080/",
     "height": 209
    },
    "id": "46e16862-037d-447b-be6a-cc499dd36c90",
    "outputId": "1116fa86-c3d0-457b-b927-135cc4bce1ca"
   },
   "outputs": [
    {
     "data": {
      "text/plain": [
       "0     True\n",
       "1     True\n",
       "2    False\n",
       "3     True\n",
       "dtype: bool"
      ]
     },
     "execution_count": 13,
     "metadata": {},
     "output_type": "execute_result"
    }
   ],
   "source": [
    "float_data.notna()"
   ]
  },
  {
   "cell_type": "markdown",
   "id": "6870fbfb-24ef-4ead-9ee8-ca78d77f3af9",
   "metadata": {
    "id": "6870fbfb-24ef-4ead-9ee8-ca78d77f3af9"
   },
   "source": [
    "Удаление данных с пропусками"
   ]
  },
  {
   "cell_type": "code",
   "execution_count": 15,
   "id": "f93e2d65-3c75-4968-863f-453a93229ec0",
   "metadata": {
    "colab": {
     "base_uri": "https://localhost:8080/",
     "height": 175
    },
    "id": "f93e2d65-3c75-4968-863f-453a93229ec0",
    "outputId": "cb818688-01d0-4b93-d0ed-0eff3aa16c4c"
   },
   "outputs": [
    {
     "data": {
      "text/html": [
       "<div>\n",
       "<style scoped>\n",
       "    .dataframe tbody tr th:only-of-type {\n",
       "        vertical-align: middle;\n",
       "    }\n",
       "\n",
       "    .dataframe tbody tr th {\n",
       "        vertical-align: top;\n",
       "    }\n",
       "\n",
       "    .dataframe thead th {\n",
       "        text-align: right;\n",
       "    }\n",
       "</style>\n",
       "<table border=\"1\" class=\"dataframe\">\n",
       "  <thead>\n",
       "    <tr style=\"text-align: right;\">\n",
       "      <th></th>\n",
       "      <th>0</th>\n",
       "      <th>1</th>\n",
       "      <th>2</th>\n",
       "      <th>3</th>\n",
       "    </tr>\n",
       "  </thead>\n",
       "  <tbody>\n",
       "    <tr>\n",
       "      <th>0</th>\n",
       "      <td>1.0</td>\n",
       "      <td>6.5</td>\n",
       "      <td>3.0</td>\n",
       "      <td>NaN</td>\n",
       "    </tr>\n",
       "    <tr>\n",
       "      <th>1</th>\n",
       "      <td>1.0</td>\n",
       "      <td>NaN</td>\n",
       "      <td>NaN</td>\n",
       "      <td>NaN</td>\n",
       "    </tr>\n",
       "    <tr>\n",
       "      <th>2</th>\n",
       "      <td>NaN</td>\n",
       "      <td>NaN</td>\n",
       "      <td>NaN</td>\n",
       "      <td>NaN</td>\n",
       "    </tr>\n",
       "    <tr>\n",
       "      <th>3</th>\n",
       "      <td>NaN</td>\n",
       "      <td>6.5</td>\n",
       "      <td>3.0</td>\n",
       "      <td>NaN</td>\n",
       "    </tr>\n",
       "  </tbody>\n",
       "</table>\n",
       "</div>"
      ],
      "text/plain": [
       "     0    1    2   3\n",
       "0  1.0  6.5  3.0 NaN\n",
       "1  1.0  NaN  NaN NaN\n",
       "2  NaN  NaN  NaN NaN\n",
       "3  NaN  6.5  3.0 NaN"
      ]
     },
     "execution_count": 15,
     "metadata": {},
     "output_type": "execute_result"
    }
   ],
   "source": [
    "data = pd.DataFrame([[1., 6.5, 3., np.nan], [1., np.nan, np.nan, np.nan], [np.nan, np.nan, np.nan, np.nan],\n",
    "                     [np.nan, 6.5, 3., np.nan]])\n",
    "data"
   ]
  },
  {
   "cell_type": "code",
   "execution_count": 16,
   "id": "a29a6793-8569-4091-a442-aeffa6aed226",
   "metadata": {
    "colab": {
     "base_uri": "https://localhost:8080/",
     "height": 53
    },
    "id": "a29a6793-8569-4091-a442-aeffa6aed226",
    "outputId": "c27eaaf5-bc27-4f77-e5e3-4639d6ccb706"
   },
   "outputs": [
    {
     "data": {
      "text/html": [
       "<div>\n",
       "<style scoped>\n",
       "    .dataframe tbody tr th:only-of-type {\n",
       "        vertical-align: middle;\n",
       "    }\n",
       "\n",
       "    .dataframe tbody tr th {\n",
       "        vertical-align: top;\n",
       "    }\n",
       "\n",
       "    .dataframe thead th {\n",
       "        text-align: right;\n",
       "    }\n",
       "</style>\n",
       "<table border=\"1\" class=\"dataframe\">\n",
       "  <thead>\n",
       "    <tr style=\"text-align: right;\">\n",
       "      <th></th>\n",
       "      <th>0</th>\n",
       "      <th>1</th>\n",
       "      <th>2</th>\n",
       "      <th>3</th>\n",
       "    </tr>\n",
       "  </thead>\n",
       "  <tbody>\n",
       "  </tbody>\n",
       "</table>\n",
       "</div>"
      ],
      "text/plain": [
       "Empty DataFrame\n",
       "Columns: [0, 1, 2, 3]\n",
       "Index: []"
      ]
     },
     "execution_count": 16,
     "metadata": {},
     "output_type": "execute_result"
    }
   ],
   "source": [
    "data.dropna()"
   ]
  },
  {
   "cell_type": "code",
   "execution_count": 17,
   "id": "edd894b5-d32d-455f-a293-edd7c8b2fa26",
   "metadata": {
    "colab": {
     "base_uri": "https://localhost:8080/",
     "height": 143
    },
    "id": "edd894b5-d32d-455f-a293-edd7c8b2fa26",
    "outputId": "05275c6f-2c71-4830-d147-d87962e82998"
   },
   "outputs": [
    {
     "data": {
      "text/html": [
       "<div>\n",
       "<style scoped>\n",
       "    .dataframe tbody tr th:only-of-type {\n",
       "        vertical-align: middle;\n",
       "    }\n",
       "\n",
       "    .dataframe tbody tr th {\n",
       "        vertical-align: top;\n",
       "    }\n",
       "\n",
       "    .dataframe thead th {\n",
       "        text-align: right;\n",
       "    }\n",
       "</style>\n",
       "<table border=\"1\" class=\"dataframe\">\n",
       "  <thead>\n",
       "    <tr style=\"text-align: right;\">\n",
       "      <th></th>\n",
       "      <th>0</th>\n",
       "      <th>1</th>\n",
       "      <th>2</th>\n",
       "      <th>3</th>\n",
       "    </tr>\n",
       "  </thead>\n",
       "  <tbody>\n",
       "    <tr>\n",
       "      <th>0</th>\n",
       "      <td>1.0</td>\n",
       "      <td>6.5</td>\n",
       "      <td>3.0</td>\n",
       "      <td>NaN</td>\n",
       "    </tr>\n",
       "    <tr>\n",
       "      <th>1</th>\n",
       "      <td>1.0</td>\n",
       "      <td>NaN</td>\n",
       "      <td>NaN</td>\n",
       "      <td>NaN</td>\n",
       "    </tr>\n",
       "    <tr>\n",
       "      <th>3</th>\n",
       "      <td>NaN</td>\n",
       "      <td>6.5</td>\n",
       "      <td>3.0</td>\n",
       "      <td>NaN</td>\n",
       "    </tr>\n",
       "  </tbody>\n",
       "</table>\n",
       "</div>"
      ],
      "text/plain": [
       "     0    1    2   3\n",
       "0  1.0  6.5  3.0 NaN\n",
       "1  1.0  NaN  NaN NaN\n",
       "3  NaN  6.5  3.0 NaN"
      ]
     },
     "execution_count": 17,
     "metadata": {},
     "output_type": "execute_result"
    }
   ],
   "source": [
    "data.dropna(how=\"all\")"
   ]
  },
  {
   "cell_type": "code",
   "execution_count": 18,
   "id": "e00385ee-c272-46b0-9ef7-6fd73ba4b441",
   "metadata": {
    "colab": {
     "base_uri": "https://localhost:8080/",
     "height": 175
    },
    "id": "e00385ee-c272-46b0-9ef7-6fd73ba4b441",
    "outputId": "982da871-2f6d-47a7-93de-25089e2dfd49"
   },
   "outputs": [
    {
     "data": {
      "text/html": [
       "<div>\n",
       "<style scoped>\n",
       "    .dataframe tbody tr th:only-of-type {\n",
       "        vertical-align: middle;\n",
       "    }\n",
       "\n",
       "    .dataframe tbody tr th {\n",
       "        vertical-align: top;\n",
       "    }\n",
       "\n",
       "    .dataframe thead th {\n",
       "        text-align: right;\n",
       "    }\n",
       "</style>\n",
       "<table border=\"1\" class=\"dataframe\">\n",
       "  <thead>\n",
       "    <tr style=\"text-align: right;\">\n",
       "      <th></th>\n",
       "      <th>0</th>\n",
       "      <th>1</th>\n",
       "      <th>2</th>\n",
       "    </tr>\n",
       "  </thead>\n",
       "  <tbody>\n",
       "    <tr>\n",
       "      <th>0</th>\n",
       "      <td>1.0</td>\n",
       "      <td>6.5</td>\n",
       "      <td>3.0</td>\n",
       "    </tr>\n",
       "    <tr>\n",
       "      <th>1</th>\n",
       "      <td>1.0</td>\n",
       "      <td>NaN</td>\n",
       "      <td>NaN</td>\n",
       "    </tr>\n",
       "    <tr>\n",
       "      <th>2</th>\n",
       "      <td>NaN</td>\n",
       "      <td>NaN</td>\n",
       "      <td>NaN</td>\n",
       "    </tr>\n",
       "    <tr>\n",
       "      <th>3</th>\n",
       "      <td>NaN</td>\n",
       "      <td>6.5</td>\n",
       "      <td>3.0</td>\n",
       "    </tr>\n",
       "  </tbody>\n",
       "</table>\n",
       "</div>"
      ],
      "text/plain": [
       "     0    1    2\n",
       "0  1.0  6.5  3.0\n",
       "1  1.0  NaN  NaN\n",
       "2  NaN  NaN  NaN\n",
       "3  NaN  6.5  3.0"
      ]
     },
     "execution_count": 18,
     "metadata": {},
     "output_type": "execute_result"
    }
   ],
   "source": [
    "data.dropna(axis=\"columns\", how=\"all\")"
   ]
  },
  {
   "cell_type": "code",
   "execution_count": 19,
   "id": "6c821de0-5430-412b-9a5d-caaa2e4dfcee",
   "metadata": {
    "colab": {
     "base_uri": "https://localhost:8080/",
     "height": 112
    },
    "id": "6c821de0-5430-412b-9a5d-caaa2e4dfcee",
    "outputId": "30774798-43d1-474a-91bb-2cb89b6303cf"
   },
   "outputs": [
    {
     "data": {
      "text/html": [
       "<div>\n",
       "<style scoped>\n",
       "    .dataframe tbody tr th:only-of-type {\n",
       "        vertical-align: middle;\n",
       "    }\n",
       "\n",
       "    .dataframe tbody tr th {\n",
       "        vertical-align: top;\n",
       "    }\n",
       "\n",
       "    .dataframe thead th {\n",
       "        text-align: right;\n",
       "    }\n",
       "</style>\n",
       "<table border=\"1\" class=\"dataframe\">\n",
       "  <thead>\n",
       "    <tr style=\"text-align: right;\">\n",
       "      <th></th>\n",
       "      <th>0</th>\n",
       "      <th>1</th>\n",
       "      <th>2</th>\n",
       "      <th>3</th>\n",
       "    </tr>\n",
       "  </thead>\n",
       "  <tbody>\n",
       "    <tr>\n",
       "      <th>0</th>\n",
       "      <td>1.0</td>\n",
       "      <td>6.5</td>\n",
       "      <td>3.0</td>\n",
       "      <td>NaN</td>\n",
       "    </tr>\n",
       "    <tr>\n",
       "      <th>3</th>\n",
       "      <td>NaN</td>\n",
       "      <td>6.5</td>\n",
       "      <td>3.0</td>\n",
       "      <td>NaN</td>\n",
       "    </tr>\n",
       "  </tbody>\n",
       "</table>\n",
       "</div>"
      ],
      "text/plain": [
       "     0    1    2   3\n",
       "0  1.0  6.5  3.0 NaN\n",
       "3  NaN  6.5  3.0 NaN"
      ]
     },
     "execution_count": 19,
     "metadata": {},
     "output_type": "execute_result"
    }
   ],
   "source": [
    "data.dropna(thresh=2)"
   ]
  },
  {
   "cell_type": "markdown",
   "id": "b925f4eb-7124-46b1-857f-78c523c348b9",
   "metadata": {
    "id": "b925f4eb-7124-46b1-857f-78c523c348b9"
   },
   "source": [
    "Восполнение отсутствующих данных"
   ]
  },
  {
   "cell_type": "code",
   "execution_count": 21,
   "id": "4c424068-b7fd-4d96-bf31-243247781413",
   "metadata": {
    "colab": {
     "base_uri": "https://localhost:8080/",
     "height": 269
    },
    "id": "4c424068-b7fd-4d96-bf31-243247781413",
    "outputId": "7ff164d8-d039-4911-b40f-b4d5d3e9503b"
   },
   "outputs": [
    {
     "data": {
      "text/html": [
       "<div>\n",
       "<style scoped>\n",
       "    .dataframe tbody tr th:only-of-type {\n",
       "        vertical-align: middle;\n",
       "    }\n",
       "\n",
       "    .dataframe tbody tr th {\n",
       "        vertical-align: top;\n",
       "    }\n",
       "\n",
       "    .dataframe thead th {\n",
       "        text-align: right;\n",
       "    }\n",
       "</style>\n",
       "<table border=\"1\" class=\"dataframe\">\n",
       "  <thead>\n",
       "    <tr style=\"text-align: right;\">\n",
       "      <th></th>\n",
       "      <th>0</th>\n",
       "      <th>1</th>\n",
       "      <th>2</th>\n",
       "    </tr>\n",
       "  </thead>\n",
       "  <tbody>\n",
       "    <tr>\n",
       "      <th>0</th>\n",
       "      <td>1.013830</td>\n",
       "      <td>NaN</td>\n",
       "      <td>NaN</td>\n",
       "    </tr>\n",
       "    <tr>\n",
       "      <th>1</th>\n",
       "      <td>0.084789</td>\n",
       "      <td>NaN</td>\n",
       "      <td>NaN</td>\n",
       "    </tr>\n",
       "    <tr>\n",
       "      <th>2</th>\n",
       "      <td>1.240260</td>\n",
       "      <td>NaN</td>\n",
       "      <td>-0.105612</td>\n",
       "    </tr>\n",
       "    <tr>\n",
       "      <th>3</th>\n",
       "      <td>0.012659</td>\n",
       "      <td>NaN</td>\n",
       "      <td>-0.313670</td>\n",
       "    </tr>\n",
       "    <tr>\n",
       "      <th>4</th>\n",
       "      <td>-1.106481</td>\n",
       "      <td>-0.161658</td>\n",
       "      <td>0.990896</td>\n",
       "    </tr>\n",
       "    <tr>\n",
       "      <th>5</th>\n",
       "      <td>-0.134666</td>\n",
       "      <td>0.022950</td>\n",
       "      <td>-0.026190</td>\n",
       "    </tr>\n",
       "    <tr>\n",
       "      <th>6</th>\n",
       "      <td>0.608788</td>\n",
       "      <td>-0.920338</td>\n",
       "      <td>-0.138171</td>\n",
       "    </tr>\n",
       "  </tbody>\n",
       "</table>\n",
       "</div>"
      ],
      "text/plain": [
       "          0         1         2\n",
       "0  1.013830       NaN       NaN\n",
       "1  0.084789       NaN       NaN\n",
       "2  1.240260       NaN -0.105612\n",
       "3  0.012659       NaN -0.313670\n",
       "4 -1.106481 -0.161658  0.990896\n",
       "5 -0.134666  0.022950 -0.026190\n",
       "6  0.608788 -0.920338 -0.138171"
      ]
     },
     "execution_count": 21,
     "metadata": {},
     "output_type": "execute_result"
    }
   ],
   "source": [
    "df = pd.DataFrame(np.random.standard_normal((7, 3)))\n",
    "df.iloc[:4, 1] = np.nan\n",
    "df.iloc[:2, 2] = np.nan\n",
    "df"
   ]
  },
  {
   "cell_type": "code",
   "execution_count": 22,
   "id": "9bc012b2-2d3d-40aa-9f47-7805574c11f3",
   "metadata": {
    "colab": {
     "base_uri": "https://localhost:8080/",
     "height": 269
    },
    "id": "9bc012b2-2d3d-40aa-9f47-7805574c11f3",
    "outputId": "ccd62362-717e-4493-e277-e23eb86bfc85"
   },
   "outputs": [
    {
     "data": {
      "text/html": [
       "<div>\n",
       "<style scoped>\n",
       "    .dataframe tbody tr th:only-of-type {\n",
       "        vertical-align: middle;\n",
       "    }\n",
       "\n",
       "    .dataframe tbody tr th {\n",
       "        vertical-align: top;\n",
       "    }\n",
       "\n",
       "    .dataframe thead th {\n",
       "        text-align: right;\n",
       "    }\n",
       "</style>\n",
       "<table border=\"1\" class=\"dataframe\">\n",
       "  <thead>\n",
       "    <tr style=\"text-align: right;\">\n",
       "      <th></th>\n",
       "      <th>0</th>\n",
       "      <th>1</th>\n",
       "      <th>2</th>\n",
       "    </tr>\n",
       "  </thead>\n",
       "  <tbody>\n",
       "    <tr>\n",
       "      <th>0</th>\n",
       "      <td>1.013830</td>\n",
       "      <td>0.000000</td>\n",
       "      <td>0.000000</td>\n",
       "    </tr>\n",
       "    <tr>\n",
       "      <th>1</th>\n",
       "      <td>0.084789</td>\n",
       "      <td>0.000000</td>\n",
       "      <td>0.000000</td>\n",
       "    </tr>\n",
       "    <tr>\n",
       "      <th>2</th>\n",
       "      <td>1.240260</td>\n",
       "      <td>0.000000</td>\n",
       "      <td>-0.105612</td>\n",
       "    </tr>\n",
       "    <tr>\n",
       "      <th>3</th>\n",
       "      <td>0.012659</td>\n",
       "      <td>0.000000</td>\n",
       "      <td>-0.313670</td>\n",
       "    </tr>\n",
       "    <tr>\n",
       "      <th>4</th>\n",
       "      <td>-1.106481</td>\n",
       "      <td>-0.161658</td>\n",
       "      <td>0.990896</td>\n",
       "    </tr>\n",
       "    <tr>\n",
       "      <th>5</th>\n",
       "      <td>-0.134666</td>\n",
       "      <td>0.022950</td>\n",
       "      <td>-0.026190</td>\n",
       "    </tr>\n",
       "    <tr>\n",
       "      <th>6</th>\n",
       "      <td>0.608788</td>\n",
       "      <td>-0.920338</td>\n",
       "      <td>-0.138171</td>\n",
       "    </tr>\n",
       "  </tbody>\n",
       "</table>\n",
       "</div>"
      ],
      "text/plain": [
       "          0         1         2\n",
       "0  1.013830  0.000000  0.000000\n",
       "1  0.084789  0.000000  0.000000\n",
       "2  1.240260  0.000000 -0.105612\n",
       "3  0.012659  0.000000 -0.313670\n",
       "4 -1.106481 -0.161658  0.990896\n",
       "5 -0.134666  0.022950 -0.026190\n",
       "6  0.608788 -0.920338 -0.138171"
      ]
     },
     "execution_count": 22,
     "metadata": {},
     "output_type": "execute_result"
    }
   ],
   "source": [
    "df.fillna(0)"
   ]
  },
  {
   "cell_type": "code",
   "execution_count": 23,
   "id": "b8312838-7afb-475a-9db6-13aee9113c93",
   "metadata": {
    "colab": {
     "base_uri": "https://localhost:8080/",
     "height": 269
    },
    "id": "b8312838-7afb-475a-9db6-13aee9113c93",
    "outputId": "c8c9f6b2-6b85-4b54-f187-3a826ddab859"
   },
   "outputs": [
    {
     "data": {
      "text/html": [
       "<div>\n",
       "<style scoped>\n",
       "    .dataframe tbody tr th:only-of-type {\n",
       "        vertical-align: middle;\n",
       "    }\n",
       "\n",
       "    .dataframe tbody tr th {\n",
       "        vertical-align: top;\n",
       "    }\n",
       "\n",
       "    .dataframe thead th {\n",
       "        text-align: right;\n",
       "    }\n",
       "</style>\n",
       "<table border=\"1\" class=\"dataframe\">\n",
       "  <thead>\n",
       "    <tr style=\"text-align: right;\">\n",
       "      <th></th>\n",
       "      <th>0</th>\n",
       "      <th>1</th>\n",
       "      <th>2</th>\n",
       "    </tr>\n",
       "  </thead>\n",
       "  <tbody>\n",
       "    <tr>\n",
       "      <th>0</th>\n",
       "      <td>1.013830</td>\n",
       "      <td>0.500000</td>\n",
       "      <td>0.000000</td>\n",
       "    </tr>\n",
       "    <tr>\n",
       "      <th>1</th>\n",
       "      <td>0.084789</td>\n",
       "      <td>0.500000</td>\n",
       "      <td>0.000000</td>\n",
       "    </tr>\n",
       "    <tr>\n",
       "      <th>2</th>\n",
       "      <td>1.240260</td>\n",
       "      <td>0.500000</td>\n",
       "      <td>-0.105612</td>\n",
       "    </tr>\n",
       "    <tr>\n",
       "      <th>3</th>\n",
       "      <td>0.012659</td>\n",
       "      <td>0.500000</td>\n",
       "      <td>-0.313670</td>\n",
       "    </tr>\n",
       "    <tr>\n",
       "      <th>4</th>\n",
       "      <td>-1.106481</td>\n",
       "      <td>-0.161658</td>\n",
       "      <td>0.990896</td>\n",
       "    </tr>\n",
       "    <tr>\n",
       "      <th>5</th>\n",
       "      <td>-0.134666</td>\n",
       "      <td>0.022950</td>\n",
       "      <td>-0.026190</td>\n",
       "    </tr>\n",
       "    <tr>\n",
       "      <th>6</th>\n",
       "      <td>0.608788</td>\n",
       "      <td>-0.920338</td>\n",
       "      <td>-0.138171</td>\n",
       "    </tr>\n",
       "  </tbody>\n",
       "</table>\n",
       "</div>"
      ],
      "text/plain": [
       "          0         1         2\n",
       "0  1.013830  0.500000  0.000000\n",
       "1  0.084789  0.500000  0.000000\n",
       "2  1.240260  0.500000 -0.105612\n",
       "3  0.012659  0.500000 -0.313670\n",
       "4 -1.106481 -0.161658  0.990896\n",
       "5 -0.134666  0.022950 -0.026190\n",
       "6  0.608788 -0.920338 -0.138171"
      ]
     },
     "execution_count": 23,
     "metadata": {},
     "output_type": "execute_result"
    }
   ],
   "source": [
    "df.fillna({1: 0.5, 2: 0})"
   ]
  },
  {
   "cell_type": "code",
   "execution_count": 24,
   "id": "ed02158e-bd5f-46e0-973c-023d6a8aabc1",
   "metadata": {
    "colab": {
     "base_uri": "https://localhost:8080/",
     "height": 303
    },
    "id": "ed02158e-bd5f-46e0-973c-023d6a8aabc1",
    "outputId": "f2f1f7cc-60a3-4197-e84c-f03db1d19624"
   },
   "outputs": [
    {
     "data": {
      "text/html": [
       "<div>\n",
       "<style scoped>\n",
       "    .dataframe tbody tr th:only-of-type {\n",
       "        vertical-align: middle;\n",
       "    }\n",
       "\n",
       "    .dataframe tbody tr th {\n",
       "        vertical-align: top;\n",
       "    }\n",
       "\n",
       "    .dataframe thead th {\n",
       "        text-align: right;\n",
       "    }\n",
       "</style>\n",
       "<table border=\"1\" class=\"dataframe\">\n",
       "  <thead>\n",
       "    <tr style=\"text-align: right;\">\n",
       "      <th></th>\n",
       "      <th>0</th>\n",
       "      <th>1</th>\n",
       "      <th>2</th>\n",
       "    </tr>\n",
       "  </thead>\n",
       "  <tbody>\n",
       "    <tr>\n",
       "      <th>0</th>\n",
       "      <td>1.013830</td>\n",
       "      <td>-0.161658</td>\n",
       "      <td>-0.105612</td>\n",
       "    </tr>\n",
       "    <tr>\n",
       "      <th>1</th>\n",
       "      <td>0.084789</td>\n",
       "      <td>-0.161658</td>\n",
       "      <td>-0.105612</td>\n",
       "    </tr>\n",
       "    <tr>\n",
       "      <th>2</th>\n",
       "      <td>1.240260</td>\n",
       "      <td>-0.161658</td>\n",
       "      <td>-0.105612</td>\n",
       "    </tr>\n",
       "    <tr>\n",
       "      <th>3</th>\n",
       "      <td>0.012659</td>\n",
       "      <td>-0.161658</td>\n",
       "      <td>-0.313670</td>\n",
       "    </tr>\n",
       "    <tr>\n",
       "      <th>4</th>\n",
       "      <td>-1.106481</td>\n",
       "      <td>-0.161658</td>\n",
       "      <td>0.990896</td>\n",
       "    </tr>\n",
       "    <tr>\n",
       "      <th>5</th>\n",
       "      <td>-0.134666</td>\n",
       "      <td>0.022950</td>\n",
       "      <td>-0.026190</td>\n",
       "    </tr>\n",
       "    <tr>\n",
       "      <th>6</th>\n",
       "      <td>0.608788</td>\n",
       "      <td>-0.920338</td>\n",
       "      <td>-0.138171</td>\n",
       "    </tr>\n",
       "  </tbody>\n",
       "</table>\n",
       "</div>"
      ],
      "text/plain": [
       "          0         1         2\n",
       "0  1.013830 -0.161658 -0.105612\n",
       "1  0.084789 -0.161658 -0.105612\n",
       "2  1.240260 -0.161658 -0.105612\n",
       "3  0.012659 -0.161658 -0.313670\n",
       "4 -1.106481 -0.161658  0.990896\n",
       "5 -0.134666  0.022950 -0.026190\n",
       "6  0.608788 -0.920338 -0.138171"
      ]
     },
     "execution_count": 24,
     "metadata": {},
     "output_type": "execute_result"
    }
   ],
   "source": [
    "df.fillna(method=\"bfill\")"
   ]
  },
  {
   "cell_type": "code",
   "execution_count": 25,
   "id": "ff16c212-310c-4287-8318-81050cb0adcf",
   "metadata": {
    "colab": {
     "base_uri": "https://localhost:8080/",
     "height": 303
    },
    "id": "ff16c212-310c-4287-8318-81050cb0adcf",
    "outputId": "1a38189a-abfe-4428-844b-a15170845306"
   },
   "outputs": [
    {
     "data": {
      "text/html": [
       "<div>\n",
       "<style scoped>\n",
       "    .dataframe tbody tr th:only-of-type {\n",
       "        vertical-align: middle;\n",
       "    }\n",
       "\n",
       "    .dataframe tbody tr th {\n",
       "        vertical-align: top;\n",
       "    }\n",
       "\n",
       "    .dataframe thead th {\n",
       "        text-align: right;\n",
       "    }\n",
       "</style>\n",
       "<table border=\"1\" class=\"dataframe\">\n",
       "  <thead>\n",
       "    <tr style=\"text-align: right;\">\n",
       "      <th></th>\n",
       "      <th>0</th>\n",
       "      <th>1</th>\n",
       "      <th>2</th>\n",
       "    </tr>\n",
       "  </thead>\n",
       "  <tbody>\n",
       "    <tr>\n",
       "      <th>0</th>\n",
       "      <td>1.013830</td>\n",
       "      <td>NaN</td>\n",
       "      <td>-0.105612</td>\n",
       "    </tr>\n",
       "    <tr>\n",
       "      <th>1</th>\n",
       "      <td>0.084789</td>\n",
       "      <td>NaN</td>\n",
       "      <td>-0.105612</td>\n",
       "    </tr>\n",
       "    <tr>\n",
       "      <th>2</th>\n",
       "      <td>1.240260</td>\n",
       "      <td>-0.161658</td>\n",
       "      <td>-0.105612</td>\n",
       "    </tr>\n",
       "    <tr>\n",
       "      <th>3</th>\n",
       "      <td>0.012659</td>\n",
       "      <td>-0.161658</td>\n",
       "      <td>-0.313670</td>\n",
       "    </tr>\n",
       "    <tr>\n",
       "      <th>4</th>\n",
       "      <td>-1.106481</td>\n",
       "      <td>-0.161658</td>\n",
       "      <td>0.990896</td>\n",
       "    </tr>\n",
       "    <tr>\n",
       "      <th>5</th>\n",
       "      <td>-0.134666</td>\n",
       "      <td>0.022950</td>\n",
       "      <td>-0.026190</td>\n",
       "    </tr>\n",
       "    <tr>\n",
       "      <th>6</th>\n",
       "      <td>0.608788</td>\n",
       "      <td>-0.920338</td>\n",
       "      <td>-0.138171</td>\n",
       "    </tr>\n",
       "  </tbody>\n",
       "</table>\n",
       "</div>"
      ],
      "text/plain": [
       "          0         1         2\n",
       "0  1.013830       NaN -0.105612\n",
       "1  0.084789       NaN -0.105612\n",
       "2  1.240260 -0.161658 -0.105612\n",
       "3  0.012659 -0.161658 -0.313670\n",
       "4 -1.106481 -0.161658  0.990896\n",
       "5 -0.134666  0.022950 -0.026190\n",
       "6  0.608788 -0.920338 -0.138171"
      ]
     },
     "execution_count": 25,
     "metadata": {},
     "output_type": "execute_result"
    }
   ],
   "source": [
    "df.fillna(method=\"bfill\", limit=2)"
   ]
  },
  {
   "cell_type": "code",
   "execution_count": 26,
   "id": "471c602b-8ebb-4b86-b56c-889bb8d6f88e",
   "metadata": {
    "colab": {
     "base_uri": "https://localhost:8080/",
     "height": 269
    },
    "id": "471c602b-8ebb-4b86-b56c-889bb8d6f88e",
    "outputId": "0754fd4b-d3c0-4f0a-cfb3-eb885383b884"
   },
   "outputs": [
    {
     "data": {
      "text/html": [
       "<div>\n",
       "<style scoped>\n",
       "    .dataframe tbody tr th:only-of-type {\n",
       "        vertical-align: middle;\n",
       "    }\n",
       "\n",
       "    .dataframe tbody tr th {\n",
       "        vertical-align: top;\n",
       "    }\n",
       "\n",
       "    .dataframe thead th {\n",
       "        text-align: right;\n",
       "    }\n",
       "</style>\n",
       "<table border=\"1\" class=\"dataframe\">\n",
       "  <thead>\n",
       "    <tr style=\"text-align: right;\">\n",
       "      <th></th>\n",
       "      <th>0</th>\n",
       "      <th>1</th>\n",
       "      <th>2</th>\n",
       "    </tr>\n",
       "  </thead>\n",
       "  <tbody>\n",
       "    <tr>\n",
       "      <th>0</th>\n",
       "      <td>1.013830</td>\n",
       "      <td>-0.353015</td>\n",
       "      <td>0.081450</td>\n",
       "    </tr>\n",
       "    <tr>\n",
       "      <th>1</th>\n",
       "      <td>0.084789</td>\n",
       "      <td>-0.353015</td>\n",
       "      <td>0.081450</td>\n",
       "    </tr>\n",
       "    <tr>\n",
       "      <th>2</th>\n",
       "      <td>1.240260</td>\n",
       "      <td>-0.353015</td>\n",
       "      <td>-0.105612</td>\n",
       "    </tr>\n",
       "    <tr>\n",
       "      <th>3</th>\n",
       "      <td>0.012659</td>\n",
       "      <td>-0.353015</td>\n",
       "      <td>-0.313670</td>\n",
       "    </tr>\n",
       "    <tr>\n",
       "      <th>4</th>\n",
       "      <td>-1.106481</td>\n",
       "      <td>-0.161658</td>\n",
       "      <td>0.990896</td>\n",
       "    </tr>\n",
       "    <tr>\n",
       "      <th>5</th>\n",
       "      <td>-0.134666</td>\n",
       "      <td>0.022950</td>\n",
       "      <td>-0.026190</td>\n",
       "    </tr>\n",
       "    <tr>\n",
       "      <th>6</th>\n",
       "      <td>0.608788</td>\n",
       "      <td>-0.920338</td>\n",
       "      <td>-0.138171</td>\n",
       "    </tr>\n",
       "  </tbody>\n",
       "</table>\n",
       "</div>"
      ],
      "text/plain": [
       "          0         1         2\n",
       "0  1.013830 -0.353015  0.081450\n",
       "1  0.084789 -0.353015  0.081450\n",
       "2  1.240260 -0.353015 -0.105612\n",
       "3  0.012659 -0.353015 -0.313670\n",
       "4 -1.106481 -0.161658  0.990896\n",
       "5 -0.134666  0.022950 -0.026190\n",
       "6  0.608788 -0.920338 -0.138171"
      ]
     },
     "execution_count": 26,
     "metadata": {},
     "output_type": "execute_result"
    }
   ],
   "source": [
    "df.fillna(df.mean())"
   ]
  },
  {
   "cell_type": "code",
   "execution_count": 27,
   "id": "19d916b9-2097-48e9-8cd3-36744c37f8a1",
   "metadata": {
    "colab": {
     "base_uri": "https://localhost:8080/",
     "height": 269
    },
    "id": "19d916b9-2097-48e9-8cd3-36744c37f8a1",
    "outputId": "3c391e32-4a13-4f1b-b935-db0aa2861d3a"
   },
   "outputs": [
    {
     "data": {
      "text/html": [
       "<div>\n",
       "<style scoped>\n",
       "    .dataframe tbody tr th:only-of-type {\n",
       "        vertical-align: middle;\n",
       "    }\n",
       "\n",
       "    .dataframe tbody tr th {\n",
       "        vertical-align: top;\n",
       "    }\n",
       "\n",
       "    .dataframe thead th {\n",
       "        text-align: right;\n",
       "    }\n",
       "</style>\n",
       "<table border=\"1\" class=\"dataframe\">\n",
       "  <thead>\n",
       "    <tr style=\"text-align: right;\">\n",
       "      <th></th>\n",
       "      <th>0</th>\n",
       "      <th>1</th>\n",
       "      <th>2</th>\n",
       "    </tr>\n",
       "  </thead>\n",
       "  <tbody>\n",
       "    <tr>\n",
       "      <th>0</th>\n",
       "      <td>1.013830</td>\n",
       "      <td>-0.161658</td>\n",
       "      <td>-0.105612</td>\n",
       "    </tr>\n",
       "    <tr>\n",
       "      <th>1</th>\n",
       "      <td>0.084789</td>\n",
       "      <td>-0.161658</td>\n",
       "      <td>-0.105612</td>\n",
       "    </tr>\n",
       "    <tr>\n",
       "      <th>2</th>\n",
       "      <td>1.240260</td>\n",
       "      <td>-0.161658</td>\n",
       "      <td>-0.105612</td>\n",
       "    </tr>\n",
       "    <tr>\n",
       "      <th>3</th>\n",
       "      <td>0.012659</td>\n",
       "      <td>-0.161658</td>\n",
       "      <td>-0.313670</td>\n",
       "    </tr>\n",
       "    <tr>\n",
       "      <th>4</th>\n",
       "      <td>-1.106481</td>\n",
       "      <td>-0.161658</td>\n",
       "      <td>0.990896</td>\n",
       "    </tr>\n",
       "    <tr>\n",
       "      <th>5</th>\n",
       "      <td>-0.134666</td>\n",
       "      <td>0.022950</td>\n",
       "      <td>-0.026190</td>\n",
       "    </tr>\n",
       "    <tr>\n",
       "      <th>6</th>\n",
       "      <td>0.608788</td>\n",
       "      <td>-0.920338</td>\n",
       "      <td>-0.138171</td>\n",
       "    </tr>\n",
       "  </tbody>\n",
       "</table>\n",
       "</div>"
      ],
      "text/plain": [
       "          0         1         2\n",
       "0  1.013830 -0.161658 -0.105612\n",
       "1  0.084789 -0.161658 -0.105612\n",
       "2  1.240260 -0.161658 -0.105612\n",
       "3  0.012659 -0.161658 -0.313670\n",
       "4 -1.106481 -0.161658  0.990896\n",
       "5 -0.134666  0.022950 -0.026190\n",
       "6  0.608788 -0.920338 -0.138171"
      ]
     },
     "execution_count": 27,
     "metadata": {},
     "output_type": "execute_result"
    }
   ],
   "source": [
    "df.fillna(df.median())"
   ]
  },
  {
   "cell_type": "markdown",
   "id": "f54a6fa0-7850-44c5-ac95-4919c9c34543",
   "metadata": {
    "id": "f54a6fa0-7850-44c5-ac95-4919c9c34543"
   },
   "source": [
    "Медиана более устойчива к выбросам"
   ]
  },
  {
   "cell_type": "code",
   "execution_count": 29,
   "id": "5d3e0083-0e42-4cba-89f2-5a849028bd45",
   "metadata": {
    "id": "5d3e0083-0e42-4cba-89f2-5a849028bd45"
   },
   "outputs": [],
   "source": [
    "data_all = []\n",
    "for i in range(10000):\n",
    "    data = []\n",
    "    for i in range(1000):\n",
    "        if np.random.random() >= 0.90:\n",
    "            data.append(np.random.normal(1, 1, 1)[0])\n",
    "        else:\n",
    "            data.append(np.random.normal(1, 10, 1)[0])\n",
    "    data_all.append(data)\n",
    "\n",
    "data_all = np.array(data_all)"
   ]
  },
  {
   "cell_type": "code",
   "execution_count": 30,
   "id": "0f121112-c46d-4685-b4f0-f740a3f694da",
   "metadata": {
    "colab": {
     "base_uri": "https://localhost:8080/",
     "height": 447
    },
    "id": "0f121112-c46d-4685-b4f0-f740a3f694da",
    "outputId": "8bbd1690-a34d-4f38-abb6-fed4463d5a64"
   },
   "outputs": [
    {
     "data": {
      "text/plain": [
       "<Axes: >"
      ]
     },
     "execution_count": 30,
     "metadata": {},
     "output_type": "execute_result"
    },
    {
     "data": {
      "image/png": "[encoded data removed]",
      "text/plain": [
       "<Figure size 640x480 with 1 Axes>"
      ]
     },
     "metadata": {},
     "output_type": "display_data"
    }
   ],
   "source": [
    "res = pd.DataFrame({\"mean\": data_all.mean(axis=1), \"median\": np.median(data_all, axis=1)})\n",
    "res.boxplot()"
   ]
  },
  {
   "cell_type": "markdown",
   "id": "0a66f3df-3654-4e95-b1c3-581b79a03d8e",
   "metadata": {
    "id": "0a66f3df-3654-4e95-b1c3-581b79a03d8e"
   },
   "source": [
    "Создание дополнительного признака"
   ]
  },
  {
   "cell_type": "code",
   "execution_count": 32,
   "id": "f548a616-1c85-4a73-b970-4ab455e92fa9",
   "metadata": {
    "id": "f548a616-1c85-4a73-b970-4ab455e92fa9",
    "outputId": "042c1e32-643f-471f-8daf-5d0487f67454"
   },
   "outputs": [
    {
     "data": {
      "text/html": [
       "<div>\n",
       "<style scoped>\n",
       "    .dataframe tbody tr th:only-of-type {\n",
       "        vertical-align: middle;\n",
       "    }\n",
       "\n",
       "    .dataframe tbody tr th {\n",
       "        vertical-align: top;\n",
       "    }\n",
       "\n",
       "    .dataframe thead th {\n",
       "        text-align: right;\n",
       "    }\n",
       "</style>\n",
       "<table border=\"1\" class=\"dataframe\">\n",
       "  <thead>\n",
       "    <tr style=\"text-align: right;\">\n",
       "      <th></th>\n",
       "      <th>0</th>\n",
       "      <th>1</th>\n",
       "      <th>2</th>\n",
       "      <th>2 is nan</th>\n",
       "    </tr>\n",
       "  </thead>\n",
       "  <tbody>\n",
       "    <tr>\n",
       "      <th>0</th>\n",
       "      <td>1.013830</td>\n",
       "      <td>NaN</td>\n",
       "      <td>NaN</td>\n",
       "      <td>1</td>\n",
       "    </tr>\n",
       "    <tr>\n",
       "      <th>1</th>\n",
       "      <td>0.084789</td>\n",
       "      <td>NaN</td>\n",
       "      <td>NaN</td>\n",
       "      <td>1</td>\n",
       "    </tr>\n",
       "    <tr>\n",
       "      <th>2</th>\n",
       "      <td>1.240260</td>\n",
       "      <td>NaN</td>\n",
       "      <td>-0.105612</td>\n",
       "      <td>0</td>\n",
       "    </tr>\n",
       "    <tr>\n",
       "      <th>3</th>\n",
       "      <td>0.012659</td>\n",
       "      <td>NaN</td>\n",
       "      <td>-0.313670</td>\n",
       "      <td>0</td>\n",
       "    </tr>\n",
       "    <tr>\n",
       "      <th>4</th>\n",
       "      <td>-1.106481</td>\n",
       "      <td>-0.161658</td>\n",
       "      <td>0.990896</td>\n",
       "      <td>0</td>\n",
       "    </tr>\n",
       "    <tr>\n",
       "      <th>5</th>\n",
       "      <td>-0.134666</td>\n",
       "      <td>0.022950</td>\n",
       "      <td>-0.026190</td>\n",
       "      <td>0</td>\n",
       "    </tr>\n",
       "    <tr>\n",
       "      <th>6</th>\n",
       "      <td>0.608788</td>\n",
       "      <td>-0.920338</td>\n",
       "      <td>-0.138171</td>\n",
       "      <td>0</td>\n",
       "    </tr>\n",
       "  </tbody>\n",
       "</table>\n",
       "</div>"
      ],
      "text/plain": [
       "          0         1         2  2 is nan\n",
       "0  1.013830       NaN       NaN         1\n",
       "1  0.084789       NaN       NaN         1\n",
       "2  1.240260       NaN -0.105612         0\n",
       "3  0.012659       NaN -0.313670         0\n",
       "4 -1.106481 -0.161658  0.990896         0\n",
       "5 -0.134666  0.022950 -0.026190         0\n",
       "6  0.608788 -0.920338 -0.138171         0"
      ]
     },
     "execution_count": 32,
     "metadata": {},
     "output_type": "execute_result"
    }
   ],
   "source": [
    "df[\"2 is nan\"] = df[2].isna().astype(np.int32)\n",
    "df"
   ]
  },
  {
   "cell_type": "markdown",
   "id": "dd342e89-1cf2-4e65-8a94-a47d2294ecfa",
   "metadata": {
    "id": "dd342e89-1cf2-4e65-8a94-a47d2294ecfa"
   },
   "source": [
    "Замена значений"
   ]
  },
  {
   "cell_type": "code",
   "execution_count": 34,
   "id": "964206d0-a401-4142-b794-5a96bcabb24b",
   "metadata": {
    "id": "964206d0-a401-4142-b794-5a96bcabb24b",
    "outputId": "f1ed3e1c-71bb-47c6-a22b-077e008214c1"
   },
   "outputs": [
    {
     "data": {
      "text/plain": [
       "0      1.0\n",
       "1   -999.0\n",
       "2      2.0\n",
       "3   -999.0\n",
       "4      4.0\n",
       "5      3.0\n",
       "dtype: float64"
      ]
     },
     "execution_count": 34,
     "metadata": {},
     "output_type": "execute_result"
    }
   ],
   "source": [
    "data = pd.Series([1., -999., 2., -999., 4., 3.])\n",
    "data"
   ]
  },
  {
   "cell_type": "code",
   "execution_count": 35,
   "id": "211e1cb6-1d23-41b7-bb82-96b75ddef704",
   "metadata": {
    "id": "211e1cb6-1d23-41b7-bb82-96b75ddef704",
    "outputId": "15ed5647-2ad1-415a-faa4-ea87cd3afad5"
   },
   "outputs": [
    {
     "data": {
      "text/plain": [
       "0    1.0\n",
       "1    NaN\n",
       "2    2.0\n",
       "3    NaN\n",
       "4    4.0\n",
       "5    3.0\n",
       "dtype: float64"
      ]
     },
     "execution_count": 35,
     "metadata": {},
     "output_type": "execute_result"
    }
   ],
   "source": [
    "data.replace(-999, np.nan)"
   ]
  },
  {
   "cell_type": "markdown",
   "id": "251d7fad-28dc-4d90-8354-b729082d7db8",
   "metadata": {
    "jp-MarkdownHeadingCollapsed": true
   },
   "source": [
    "# Кодирование признаков"
   ]
  },
  {
   "cell_type": "markdown",
   "id": "f7da2248-a7dd-49b4-a211-0541757bdb09",
   "metadata": {
    "id": "f7da2248-a7dd-49b4-a211-0541757bdb09"
   },
   "source": [
    "Бинарные факторы: False == 0, True == 1"
   ]
  },
  {
   "cell_type": "code",
   "execution_count": 38,
   "id": "a8bea040-07c9-4ca3-99c5-ff1cd94051ea",
   "metadata": {
    "id": "a8bea040-07c9-4ca3-99c5-ff1cd94051ea",
    "outputId": "21d2e6fa-715b-454d-be1c-509cf5435880"
   },
   "outputs": [
    {
     "data": {
      "text/plain": [
       "0       male\n",
       "1       male\n",
       "2       male\n",
       "3       male\n",
       "4       male\n",
       "5       male\n",
       "6       male\n",
       "7       male\n",
       "8       male\n",
       "9       male\n",
       "10    female\n",
       "11    female\n",
       "12    female\n",
       "13    female\n",
       "14    female\n",
       "dtype: object"
      ]
     },
     "execution_count": 38,
     "metadata": {},
     "output_type": "execute_result"
    }
   ],
   "source": [
    "data = pd.Series([\"male\"]*10 + [\"female\"]*5)\n",
    "data"
   ]
  },
  {
   "cell_type": "code",
   "execution_count": 39,
   "id": "543531c9-cb85-46bd-8c24-a611bf713d9a",
   "metadata": {
    "id": "543531c9-cb85-46bd-8c24-a611bf713d9a",
    "outputId": "fb84cf36-0b3d-4e65-ceb6-89c469749f2e"
   },
   "outputs": [
    {
     "data": {
      "text/plain": [
       "0     1\n",
       "1     1\n",
       "2     1\n",
       "3     1\n",
       "4     1\n",
       "5     1\n",
       "6     1\n",
       "7     1\n",
       "8     1\n",
       "9     1\n",
       "10    0\n",
       "11    0\n",
       "12    0\n",
       "13    0\n",
       "14    0\n",
       "dtype: int32"
      ]
     },
     "execution_count": 39,
     "metadata": {},
     "output_type": "execute_result"
    }
   ],
   "source": [
    "(data == \"male\").astype(np.int32)"
   ]
  },
  {
   "cell_type": "markdown",
   "id": "5efd9dd7-1e25-4a32-8715-4b7ab26c302d",
   "metadata": {
    "id": "5efd9dd7-1e25-4a32-8715-4b7ab26c302d"
   },
   "source": [
    "Категориальные факторы: разбиваем по порядку\n"
   ]
  },
  {
   "cell_type": "code",
   "execution_count": 41,
   "id": "df80c7f5-70a3-45a4-9949-a77c9b6bdbcc",
   "metadata": {
    "id": "df80c7f5-70a3-45a4-9949-a77c9b6bdbcc",
    "outputId": "d2e04cbd-8854-4a0e-efd6-de698cefa7ba"
   },
   "outputs": [
    {
     "data": {
      "text/html": [
       "<div>\n",
       "<style scoped>\n",
       "    .dataframe tbody tr th:only-of-type {\n",
       "        vertical-align: middle;\n",
       "    }\n",
       "\n",
       "    .dataframe tbody tr th {\n",
       "        vertical-align: top;\n",
       "    }\n",
       "\n",
       "    .dataframe thead th {\n",
       "        text-align: right;\n",
       "    }\n",
       "</style>\n",
       "<table border=\"1\" class=\"dataframe\">\n",
       "  <thead>\n",
       "    <tr style=\"text-align: right;\">\n",
       "      <th></th>\n",
       "      <th>0</th>\n",
       "    </tr>\n",
       "  </thead>\n",
       "  <tbody>\n",
       "    <tr>\n",
       "      <th>0</th>\n",
       "      <td>moscow</td>\n",
       "    </tr>\n",
       "    <tr>\n",
       "      <th>1</th>\n",
       "      <td>spb</td>\n",
       "    </tr>\n",
       "    <tr>\n",
       "      <th>2</th>\n",
       "      <td>moscow</td>\n",
       "    </tr>\n",
       "    <tr>\n",
       "      <th>3</th>\n",
       "      <td>spb</td>\n",
       "    </tr>\n",
       "    <tr>\n",
       "      <th>4</th>\n",
       "      <td>spb</td>\n",
       "    </tr>\n",
       "    <tr>\n",
       "      <th>5</th>\n",
       "      <td>spb</td>\n",
       "    </tr>\n",
       "    <tr>\n",
       "      <th>6</th>\n",
       "      <td>tomsk</td>\n",
       "    </tr>\n",
       "    <tr>\n",
       "      <th>7</th>\n",
       "      <td>novgorod</td>\n",
       "    </tr>\n",
       "    <tr>\n",
       "      <th>8</th>\n",
       "      <td>samara</td>\n",
       "    </tr>\n",
       "    <tr>\n",
       "      <th>9</th>\n",
       "      <td>saratov</td>\n",
       "    </tr>\n",
       "  </tbody>\n",
       "</table>\n",
       "</div>"
      ],
      "text/plain": [
       "          0\n",
       "0    moscow\n",
       "1       spb\n",
       "2    moscow\n",
       "3       spb\n",
       "4       spb\n",
       "5       spb\n",
       "6     tomsk\n",
       "7  novgorod\n",
       "8    samara\n",
       "9   saratov"
      ]
     },
     "execution_count": 41,
     "metadata": {},
     "output_type": "execute_result"
    }
   ],
   "source": [
    "from sklearn.preprocessing import OrdinalEncoder, OneHotEncoder\n",
    "\n",
    "df = pd.DataFrame([\"moscow\", \"spb\", \"moscow\", \"spb\", \"spb\", \"spb\", \"tomsk\", \"novgorod\", \"samara\", \"saratov\"])\n",
    "df"
   ]
  },
  {
   "cell_type": "code",
   "execution_count": 42,
   "id": "5e8c0002-8501-4b74-aeb9-f913b3285e33",
   "metadata": {
    "id": "5e8c0002-8501-4b74-aeb9-f913b3285e33",
    "outputId": "4939aee9-2072-43b2-833d-2f044f256f64"
   },
   "outputs": [
    {
     "data": {
      "text/plain": [
       "array([[0.],\n",
       "       [4.],\n",
       "       [0.],\n",
       "       [4.],\n",
       "       [4.],\n",
       "       [4.],\n",
       "       [5.],\n",
       "       [1.],\n",
       "       [2.],\n",
       "       [3.]])"
      ]
     },
     "execution_count": 42,
     "metadata": {},
     "output_type": "execute_result"
    }
   ],
   "source": [
    "enc = OrdinalEncoder()\n",
    "enc.fit_transform(df)"
   ]
  },
  {
   "cell_type": "code",
   "execution_count": 43,
   "id": "7953eede-b601-4538-8f57-9f50c766e289",
   "metadata": {
    "id": "7953eede-b601-4538-8f57-9f50c766e289",
    "outputId": "7509012a-62c4-4eb6-fd88-ebc2f2aa9951"
   },
   "outputs": [
    {
     "data": {
      "text/plain": [
       "array([[0.],\n",
       "       [4.],\n",
       "       [0.],\n",
       "       [4.],\n",
       "       [4.],\n",
       "       [4.],\n",
       "       [5.],\n",
       "       [1.],\n",
       "       [2.],\n",
       "       [3.]])"
      ]
     },
     "execution_count": 43,
     "metadata": {},
     "output_type": "execute_result"
    }
   ],
   "source": [
    "enc = OrdinalEncoder()\n",
    "enc.fit_transform(df)"
   ]
  },
  {
   "cell_type": "markdown",
   "id": "9e0c4bd5-6a25-42c6-848d-7620991fdf10",
   "metadata": {
    "id": "9e0c4bd5-6a25-42c6-848d-7620991fdf10"
   },
   "source": [
    "Категориальные факторы: разбиваем на много бинарных (one hot encoding)\n",
    "\n",
    "city_is_moscow: 0/1, city_is_spb: 0/1, city_is_tomsk: 0/1 ..."
   ]
  },
  {
   "cell_type": "code",
   "execution_count": 45,
   "id": "06a71c60-938f-4f11-b39a-b654fd367ced",
   "metadata": {
    "id": "06a71c60-938f-4f11-b39a-b654fd367ced",
    "outputId": "7decab55-78e4-4bdc-c8f9-00aad2719e7a"
   },
   "outputs": [
    {
     "data": {
      "text/plain": [
       "[array(['moscow', 'novgorod', 'samara', 'saratov', 'spb', 'tomsk'],\n",
       "       dtype=object)]"
      ]
     },
     "execution_count": 45,
     "metadata": {},
     "output_type": "execute_result"
    }
   ],
   "source": [
    "ohe = OneHotEncoder()\n",
    "ohe.fit(df)\n",
    "ohe.categories_"
   ]
  },
  {
   "cell_type": "code",
   "execution_count": 46,
   "id": "351f24bc-19b1-482e-a25e-f876cd815ec0",
   "metadata": {
    "id": "351f24bc-19b1-482e-a25e-f876cd815ec0",
    "outputId": "73077747-7aa5-48a5-b0a7-292928db2d49"
   },
   "outputs": [
    {
     "data": {
      "text/html": [
       "<div>\n",
       "<style scoped>\n",
       "    .dataframe tbody tr th:only-of-type {\n",
       "        vertical-align: middle;\n",
       "    }\n",
       "\n",
       "    .dataframe tbody tr th {\n",
       "        vertical-align: top;\n",
       "    }\n",
       "\n",
       "    .dataframe thead tr th {\n",
       "        text-align: left;\n",
       "    }\n",
       "</style>\n",
       "<table border=\"1\" class=\"dataframe\">\n",
       "  <thead>\n",
       "    <tr>\n",
       "      <th></th>\n",
       "      <th>moscow</th>\n",
       "      <th>novgorod</th>\n",
       "      <th>samara</th>\n",
       "      <th>saratov</th>\n",
       "      <th>spb</th>\n",
       "      <th>tomsk</th>\n",
       "    </tr>\n",
       "  </thead>\n",
       "  <tbody>\n",
       "    <tr>\n",
       "      <th>0</th>\n",
       "      <td>1.0</td>\n",
       "      <td>0.0</td>\n",
       "      <td>0.0</td>\n",
       "      <td>0.0</td>\n",
       "      <td>0.0</td>\n",
       "      <td>0.0</td>\n",
       "    </tr>\n",
       "    <tr>\n",
       "      <th>1</th>\n",
       "      <td>0.0</td>\n",
       "      <td>0.0</td>\n",
       "      <td>0.0</td>\n",
       "      <td>0.0</td>\n",
       "      <td>1.0</td>\n",
       "      <td>0.0</td>\n",
       "    </tr>\n",
       "    <tr>\n",
       "      <th>2</th>\n",
       "      <td>1.0</td>\n",
       "      <td>0.0</td>\n",
       "      <td>0.0</td>\n",
       "      <td>0.0</td>\n",
       "      <td>0.0</td>\n",
       "      <td>0.0</td>\n",
       "    </tr>\n",
       "    <tr>\n",
       "      <th>3</th>\n",
       "      <td>0.0</td>\n",
       "      <td>0.0</td>\n",
       "      <td>0.0</td>\n",
       "      <td>0.0</td>\n",
       "      <td>1.0</td>\n",
       "      <td>0.0</td>\n",
       "    </tr>\n",
       "    <tr>\n",
       "      <th>4</th>\n",
       "      <td>0.0</td>\n",
       "      <td>0.0</td>\n",
       "      <td>0.0</td>\n",
       "      <td>0.0</td>\n",
       "      <td>1.0</td>\n",
       "      <td>0.0</td>\n",
       "    </tr>\n",
       "    <tr>\n",
       "      <th>5</th>\n",
       "      <td>0.0</td>\n",
       "      <td>0.0</td>\n",
       "      <td>0.0</td>\n",
       "      <td>0.0</td>\n",
       "      <td>1.0</td>\n",
       "      <td>0.0</td>\n",
       "    </tr>\n",
       "    <tr>\n",
       "      <th>6</th>\n",
       "      <td>0.0</td>\n",
       "      <td>0.0</td>\n",
       "      <td>0.0</td>\n",
       "      <td>0.0</td>\n",
       "      <td>0.0</td>\n",
       "      <td>1.0</td>\n",
       "    </tr>\n",
       "    <tr>\n",
       "      <th>7</th>\n",
       "      <td>0.0</td>\n",
       "      <td>1.0</td>\n",
       "      <td>0.0</td>\n",
       "      <td>0.0</td>\n",
       "      <td>0.0</td>\n",
       "      <td>0.0</td>\n",
       "    </tr>\n",
       "    <tr>\n",
       "      <th>8</th>\n",
       "      <td>0.0</td>\n",
       "      <td>0.0</td>\n",
       "      <td>1.0</td>\n",
       "      <td>0.0</td>\n",
       "      <td>0.0</td>\n",
       "      <td>0.0</td>\n",
       "    </tr>\n",
       "    <tr>\n",
       "      <th>9</th>\n",
       "      <td>0.0</td>\n",
       "      <td>0.0</td>\n",
       "      <td>0.0</td>\n",
       "      <td>1.0</td>\n",
       "      <td>0.0</td>\n",
       "      <td>0.0</td>\n",
       "    </tr>\n",
       "  </tbody>\n",
       "</table>\n",
       "</div>"
      ],
      "text/plain": [
       "  moscow novgorod samara saratov  spb tomsk\n",
       "0    1.0      0.0    0.0     0.0  0.0   0.0\n",
       "1    0.0      0.0    0.0     0.0  1.0   0.0\n",
       "2    1.0      0.0    0.0     0.0  0.0   0.0\n",
       "3    0.0      0.0    0.0     0.0  1.0   0.0\n",
       "4    0.0      0.0    0.0     0.0  1.0   0.0\n",
       "5    0.0      0.0    0.0     0.0  1.0   0.0\n",
       "6    0.0      0.0    0.0     0.0  0.0   1.0\n",
       "7    0.0      1.0    0.0     0.0  0.0   0.0\n",
       "8    0.0      0.0    1.0     0.0  0.0   0.0\n",
       "9    0.0      0.0    0.0     1.0  0.0   0.0"
      ]
     },
     "execution_count": 46,
     "metadata": {},
     "output_type": "execute_result"
    }
   ],
   "source": [
    "pd.DataFrame(ohe.transform(df).toarray(), columns=ohe.categories_)"
   ]
  },
  {
   "cell_type": "code",
   "execution_count": 47,
   "id": "676fc95b-dba2-431c-ba5e-6a816a60c465",
   "metadata": {
    "id": "676fc95b-dba2-431c-ba5e-6a816a60c465",
    "outputId": "b3356e9e-f135-4d58-9f39-33a39efc4fe3"
   },
   "outputs": [
    {
     "data": {
      "text/html": [
       "<div>\n",
       "<style scoped>\n",
       "    .dataframe tbody tr th:only-of-type {\n",
       "        vertical-align: middle;\n",
       "    }\n",
       "\n",
       "    .dataframe tbody tr th {\n",
       "        vertical-align: top;\n",
       "    }\n",
       "\n",
       "    .dataframe thead th {\n",
       "        text-align: right;\n",
       "    }\n",
       "</style>\n",
       "<table border=\"1\" class=\"dataframe\">\n",
       "  <thead>\n",
       "    <tr style=\"text-align: right;\">\n",
       "      <th></th>\n",
       "      <th>0_moscow</th>\n",
       "      <th>0_novgorod</th>\n",
       "      <th>0_samara</th>\n",
       "      <th>0_saratov</th>\n",
       "      <th>0_spb</th>\n",
       "      <th>0_tomsk</th>\n",
       "    </tr>\n",
       "  </thead>\n",
       "  <tbody>\n",
       "    <tr>\n",
       "      <th>0</th>\n",
       "      <td>True</td>\n",
       "      <td>False</td>\n",
       "      <td>False</td>\n",
       "      <td>False</td>\n",
       "      <td>False</td>\n",
       "      <td>False</td>\n",
       "    </tr>\n",
       "    <tr>\n",
       "      <th>1</th>\n",
       "      <td>False</td>\n",
       "      <td>False</td>\n",
       "      <td>False</td>\n",
       "      <td>False</td>\n",
       "      <td>True</td>\n",
       "      <td>False</td>\n",
       "    </tr>\n",
       "    <tr>\n",
       "      <th>2</th>\n",
       "      <td>True</td>\n",
       "      <td>False</td>\n",
       "      <td>False</td>\n",
       "      <td>False</td>\n",
       "      <td>False</td>\n",
       "      <td>False</td>\n",
       "    </tr>\n",
       "    <tr>\n",
       "      <th>3</th>\n",
       "      <td>False</td>\n",
       "      <td>False</td>\n",
       "      <td>False</td>\n",
       "      <td>False</td>\n",
       "      <td>True</td>\n",
       "      <td>False</td>\n",
       "    </tr>\n",
       "    <tr>\n",
       "      <th>4</th>\n",
       "      <td>False</td>\n",
       "      <td>False</td>\n",
       "      <td>False</td>\n",
       "      <td>False</td>\n",
       "      <td>True</td>\n",
       "      <td>False</td>\n",
       "    </tr>\n",
       "    <tr>\n",
       "      <th>5</th>\n",
       "      <td>False</td>\n",
       "      <td>False</td>\n",
       "      <td>False</td>\n",
       "      <td>False</td>\n",
       "      <td>True</td>\n",
       "      <td>False</td>\n",
       "    </tr>\n",
       "    <tr>\n",
       "      <th>6</th>\n",
       "      <td>False</td>\n",
       "      <td>False</td>\n",
       "      <td>False</td>\n",
       "      <td>False</td>\n",
       "      <td>False</td>\n",
       "      <td>True</td>\n",
       "    </tr>\n",
       "    <tr>\n",
       "      <th>7</th>\n",
       "      <td>False</td>\n",
       "      <td>True</td>\n",
       "      <td>False</td>\n",
       "      <td>False</td>\n",
       "      <td>False</td>\n",
       "      <td>False</td>\n",
       "    </tr>\n",
       "    <tr>\n",
       "      <th>8</th>\n",
       "      <td>False</td>\n",
       "      <td>False</td>\n",
       "      <td>True</td>\n",
       "      <td>False</td>\n",
       "      <td>False</td>\n",
       "      <td>False</td>\n",
       "    </tr>\n",
       "    <tr>\n",
       "      <th>9</th>\n",
       "      <td>False</td>\n",
       "      <td>False</td>\n",
       "      <td>False</td>\n",
       "      <td>True</td>\n",
       "      <td>False</td>\n",
       "      <td>False</td>\n",
       "    </tr>\n",
       "  </tbody>\n",
       "</table>\n",
       "</div>"
      ],
      "text/plain": [
       "   0_moscow  0_novgorod  0_samara  0_saratov  0_spb  0_tomsk\n",
       "0      True       False     False      False  False    False\n",
       "1     False       False     False      False   True    False\n",
       "2      True       False     False      False  False    False\n",
       "3     False       False     False      False   True    False\n",
       "4     False       False     False      False   True    False\n",
       "5     False       False     False      False   True    False\n",
       "6     False       False     False      False  False     True\n",
       "7     False        True     False      False  False    False\n",
       "8     False       False      True      False  False    False\n",
       "9     False       False     False       True  False    False"
      ]
     },
     "execution_count": 47,
     "metadata": {},
     "output_type": "execute_result"
    }
   ],
   "source": [
    "pd.get_dummies(df)"
   ]
  },
  {
   "cell_type": "markdown",
   "id": "4ac6376d-7104-47ec-9145-1b990a83ab04",
   "metadata": {
    "id": "4ac6376d-7104-47ec-9145-1b990a83ab04"
   },
   "source": [
    "Цикличные факторы: время дня => позиция на циферблате => sin, cos угла"
   ]
  },
  {
   "cell_type": "markdown",
   "id": "13b3b9a9-9e95-4b52-937d-880106d6b10e",
   "metadata": {
    "jp-MarkdownHeadingCollapsed": true
   },
   "source": [
    "# Работа со временем"
   ]
  },
  {
   "cell_type": "code",
   "execution_count": 50,
   "id": "zsfJcCq7dVfi",
   "metadata": {
    "colab": {
     "base_uri": "https://localhost:8080/",
     "height": 407
    },
    "id": "zsfJcCq7dVfi",
    "outputId": "5ffc527d-00de-4881-cf82-1c6c8acc746c"
   },
   "outputs": [
    {
     "data": {
      "image/png": "[encoded data removed]",
      "text/plain": [
       "<Figure size 1600x400 with 1 Axes>"
      ]
     },
     "metadata": {},
     "output_type": "display_data"
    }
   ],
   "source": [
    "np.random.seed(12345)\n",
    "\n",
    "range_of_dates = pd.date_range(start=\"2017-01-01\", end=\"2020-12-30\")\n",
    "X = pd.DataFrame(index=range_of_dates)\n",
    "\n",
    "X[\"day_nr\"] = range(len(X))\n",
    "X[\"day_of_year\"] = X.index.day_of_year\n",
    "\n",
    "signal_1 = 3 + 4 * np.sin(X[\"day_nr\"] / 365 * 2 * np.pi)\n",
    "signal_2 = 3 * np.sin(X[\"day_nr\"] / 365 * 4 * np.pi + 365/2)\n",
    "noise = np.random.normal(0, 0.85, len(X))\n",
    "\n",
    "y = signal_1 + signal_2 + noise\n",
    "\n",
    "y.plot(figsize=(16,4), title=\"Generated time series\");"
   ]
  },
  {
   "cell_type": "code",
   "execution_count": 51,
   "id": "rZ2HiXwSeKxQ",
   "metadata": {
    "colab": {
     "base_uri": "https://localhost:8080/",
     "height": 423
    },
    "id": "rZ2HiXwSeKxQ",
    "outputId": "d75d14dd-5e09-4c30-da36-61e361b977c4"
   },
   "outputs": [
    {
     "data": {
      "text/html": [
       "<div>\n",
       "<style scoped>\n",
       "    .dataframe tbody tr th:only-of-type {\n",
       "        vertical-align: middle;\n",
       "    }\n",
       "\n",
       "    .dataframe tbody tr th {\n",
       "        vertical-align: top;\n",
       "    }\n",
       "\n",
       "    .dataframe thead th {\n",
       "        text-align: right;\n",
       "    }\n",
       "</style>\n",
       "<table border=\"1\" class=\"dataframe\">\n",
       "  <thead>\n",
       "    <tr style=\"text-align: right;\">\n",
       "      <th></th>\n",
       "      <th>day_nr</th>\n",
       "      <th>day_of_year</th>\n",
       "    </tr>\n",
       "  </thead>\n",
       "  <tbody>\n",
       "    <tr>\n",
       "      <th>2017-01-01</th>\n",
       "      <td>0</td>\n",
       "      <td>1</td>\n",
       "    </tr>\n",
       "    <tr>\n",
       "      <th>2017-01-02</th>\n",
       "      <td>1</td>\n",
       "      <td>2</td>\n",
       "    </tr>\n",
       "    <tr>\n",
       "      <th>2017-01-03</th>\n",
       "      <td>2</td>\n",
       "      <td>3</td>\n",
       "    </tr>\n",
       "    <tr>\n",
       "      <th>2017-01-04</th>\n",
       "      <td>3</td>\n",
       "      <td>4</td>\n",
       "    </tr>\n",
       "    <tr>\n",
       "      <th>2017-01-05</th>\n",
       "      <td>4</td>\n",
       "      <td>5</td>\n",
       "    </tr>\n",
       "    <tr>\n",
       "      <th>...</th>\n",
       "      <td>...</td>\n",
       "      <td>...</td>\n",
       "    </tr>\n",
       "    <tr>\n",
       "      <th>2020-12-26</th>\n",
       "      <td>1455</td>\n",
       "      <td>361</td>\n",
       "    </tr>\n",
       "    <tr>\n",
       "      <th>2020-12-27</th>\n",
       "      <td>1456</td>\n",
       "      <td>362</td>\n",
       "    </tr>\n",
       "    <tr>\n",
       "      <th>2020-12-28</th>\n",
       "      <td>1457</td>\n",
       "      <td>363</td>\n",
       "    </tr>\n",
       "    <tr>\n",
       "      <th>2020-12-29</th>\n",
       "      <td>1458</td>\n",
       "      <td>364</td>\n",
       "    </tr>\n",
       "    <tr>\n",
       "      <th>2020-12-30</th>\n",
       "      <td>1459</td>\n",
       "      <td>365</td>\n",
       "    </tr>\n",
       "  </tbody>\n",
       "</table>\n",
       "<p>1460 rows × 2 columns</p>\n",
       "</div>"
      ],
      "text/plain": [
       "            day_nr  day_of_year\n",
       "2017-01-01       0            1\n",
       "2017-01-02       1            2\n",
       "2017-01-03       2            3\n",
       "2017-01-04       3            4\n",
       "2017-01-05       4            5\n",
       "...            ...          ...\n",
       "2020-12-26    1455          361\n",
       "2020-12-27    1456          362\n",
       "2020-12-28    1457          363\n",
       "2020-12-29    1458          364\n",
       "2020-12-30    1459          365\n",
       "\n",
       "[1460 rows x 2 columns]"
      ]
     },
     "execution_count": 51,
     "metadata": {},
     "output_type": "execute_result"
    }
   ],
   "source": [
    "X"
   ]
  },
  {
   "cell_type": "code",
   "execution_count": 52,
   "id": "QjTyyyY_eOQF",
   "metadata": {
    "id": "QjTyyyY_eOQF"
   },
   "outputs": [],
   "source": [
    "results_df = y.to_frame()\n",
    "results_df.columns = [\"actuals\"]"
   ]
  },
  {
   "cell_type": "code",
   "execution_count": 53,
   "id": "sWt4ldHKeTcK",
   "metadata": {
    "id": "sWt4ldHKeTcK"
   },
   "outputs": [],
   "source": [
    "TRAIN_END = 3 * 365"
   ]
  },
  {
   "cell_type": "markdown",
   "id": "c-risK8PeXcD",
   "metadata": {
    "id": "c-risK8PeXcD"
   },
   "source": [
    "## Подход 1 - категориальные переменные"
   ]
  },
  {
   "cell_type": "code",
   "execution_count": 55,
   "id": "Q4mEjR2reeDy",
   "metadata": {
    "colab": {
     "base_uri": "https://localhost:8080/",
     "height": 423
    },
    "id": "Q4mEjR2reeDy",
    "outputId": "654fc5fb-9852-485d-fdff-fe827b83452c"
   },
   "outputs": [
    {
     "data": {
      "text/html": [
       "<div>\n",
       "<style scoped>\n",
       "    .dataframe tbody tr th:only-of-type {\n",
       "        vertical-align: middle;\n",
       "    }\n",
       "\n",
       "    .dataframe tbody tr th {\n",
       "        vertical-align: top;\n",
       "    }\n",
       "\n",
       "    .dataframe thead th {\n",
       "        text-align: right;\n",
       "    }\n",
       "</style>\n",
       "<table border=\"1\" class=\"dataframe\">\n",
       "  <thead>\n",
       "    <tr style=\"text-align: right;\">\n",
       "      <th></th>\n",
       "      <th>month_2</th>\n",
       "      <th>month_3</th>\n",
       "      <th>month_4</th>\n",
       "      <th>month_5</th>\n",
       "      <th>month_6</th>\n",
       "      <th>month_7</th>\n",
       "      <th>month_8</th>\n",
       "      <th>month_9</th>\n",
       "      <th>month_10</th>\n",
       "      <th>month_11</th>\n",
       "      <th>month_12</th>\n",
       "    </tr>\n",
       "  </thead>\n",
       "  <tbody>\n",
       "    <tr>\n",
       "      <th>2017-01-01</th>\n",
       "      <td>False</td>\n",
       "      <td>False</td>\n",
       "      <td>False</td>\n",
       "      <td>False</td>\n",
       "      <td>False</td>\n",
       "      <td>False</td>\n",
       "      <td>False</td>\n",
       "      <td>False</td>\n",
       "      <td>False</td>\n",
       "      <td>False</td>\n",
       "      <td>False</td>\n",
       "    </tr>\n",
       "    <tr>\n",
       "      <th>2017-01-02</th>\n",
       "      <td>False</td>\n",
       "      <td>False</td>\n",
       "      <td>False</td>\n",
       "      <td>False</td>\n",
       "      <td>False</td>\n",
       "      <td>False</td>\n",
       "      <td>False</td>\n",
       "      <td>False</td>\n",
       "      <td>False</td>\n",
       "      <td>False</td>\n",
       "      <td>False</td>\n",
       "    </tr>\n",
       "    <tr>\n",
       "      <th>2017-01-03</th>\n",
       "      <td>False</td>\n",
       "      <td>False</td>\n",
       "      <td>False</td>\n",
       "      <td>False</td>\n",
       "      <td>False</td>\n",
       "      <td>False</td>\n",
       "      <td>False</td>\n",
       "      <td>False</td>\n",
       "      <td>False</td>\n",
       "      <td>False</td>\n",
       "      <td>False</td>\n",
       "    </tr>\n",
       "    <tr>\n",
       "      <th>2017-01-04</th>\n",
       "      <td>False</td>\n",
       "      <td>False</td>\n",
       "      <td>False</td>\n",
       "      <td>False</td>\n",
       "      <td>False</td>\n",
       "      <td>False</td>\n",
       "      <td>False</td>\n",
       "      <td>False</td>\n",
       "      <td>False</td>\n",
       "      <td>False</td>\n",
       "      <td>False</td>\n",
       "    </tr>\n",
       "    <tr>\n",
       "      <th>2017-01-05</th>\n",
       "      <td>False</td>\n",
       "      <td>False</td>\n",
       "      <td>False</td>\n",
       "      <td>False</td>\n",
       "      <td>False</td>\n",
       "      <td>False</td>\n",
       "      <td>False</td>\n",
       "      <td>False</td>\n",
       "      <td>False</td>\n",
       "      <td>False</td>\n",
       "      <td>False</td>\n",
       "    </tr>\n",
       "    <tr>\n",
       "      <th>...</th>\n",
       "      <td>...</td>\n",
       "      <td>...</td>\n",
       "      <td>...</td>\n",
       "      <td>...</td>\n",
       "      <td>...</td>\n",
       "      <td>...</td>\n",
       "      <td>...</td>\n",
       "      <td>...</td>\n",
       "      <td>...</td>\n",
       "      <td>...</td>\n",
       "      <td>...</td>\n",
       "    </tr>\n",
       "    <tr>\n",
       "      <th>2020-12-26</th>\n",
       "      <td>False</td>\n",
       "      <td>False</td>\n",
       "      <td>False</td>\n",
       "      <td>False</td>\n",
       "      <td>False</td>\n",
       "      <td>False</td>\n",
       "      <td>False</td>\n",
       "      <td>False</td>\n",
       "      <td>False</td>\n",
       "      <td>False</td>\n",
       "      <td>True</td>\n",
       "    </tr>\n",
       "    <tr>\n",
       "      <th>2020-12-27</th>\n",
       "      <td>False</td>\n",
       "      <td>False</td>\n",
       "      <td>False</td>\n",
       "      <td>False</td>\n",
       "      <td>False</td>\n",
       "      <td>False</td>\n",
       "      <td>False</td>\n",
       "      <td>False</td>\n",
       "      <td>False</td>\n",
       "      <td>False</td>\n",
       "      <td>True</td>\n",
       "    </tr>\n",
       "    <tr>\n",
       "      <th>2020-12-28</th>\n",
       "      <td>False</td>\n",
       "      <td>False</td>\n",
       "      <td>False</td>\n",
       "      <td>False</td>\n",
       "      <td>False</td>\n",
       "      <td>False</td>\n",
       "      <td>False</td>\n",
       "      <td>False</td>\n",
       "      <td>False</td>\n",
       "      <td>False</td>\n",
       "      <td>True</td>\n",
       "    </tr>\n",
       "    <tr>\n",
       "      <th>2020-12-29</th>\n",
       "      <td>False</td>\n",
       "      <td>False</td>\n",
       "      <td>False</td>\n",
       "      <td>False</td>\n",
       "      <td>False</td>\n",
       "      <td>False</td>\n",
       "      <td>False</td>\n",
       "      <td>False</td>\n",
       "      <td>False</td>\n",
       "      <td>False</td>\n",
       "      <td>True</td>\n",
       "    </tr>\n",
       "    <tr>\n",
       "      <th>2020-12-30</th>\n",
       "      <td>False</td>\n",
       "      <td>False</td>\n",
       "      <td>False</td>\n",
       "      <td>False</td>\n",
       "      <td>False</td>\n",
       "      <td>False</td>\n",
       "      <td>False</td>\n",
       "      <td>False</td>\n",
       "      <td>False</td>\n",
       "      <td>False</td>\n",
       "      <td>True</td>\n",
       "    </tr>\n",
       "  </tbody>\n",
       "</table>\n",
       "<p>1460 rows × 11 columns</p>\n",
       "</div>"
      ],
      "text/plain": [
       "            month_2  month_3  month_4  month_5  month_6  month_7  month_8  \\\n",
       "2017-01-01    False    False    False    False    False    False    False   \n",
       "2017-01-02    False    False    False    False    False    False    False   \n",
       "2017-01-03    False    False    False    False    False    False    False   \n",
       "2017-01-04    False    False    False    False    False    False    False   \n",
       "2017-01-05    False    False    False    False    False    False    False   \n",
       "...             ...      ...      ...      ...      ...      ...      ...   \n",
       "2020-12-26    False    False    False    False    False    False    False   \n",
       "2020-12-27    False    False    False    False    False    False    False   \n",
       "2020-12-28    False    False    False    False    False    False    False   \n",
       "2020-12-29    False    False    False    False    False    False    False   \n",
       "2020-12-30    False    False    False    False    False    False    False   \n",
       "\n",
       "            month_9  month_10  month_11  month_12  \n",
       "2017-01-01    False     False     False     False  \n",
       "2017-01-02    False     False     False     False  \n",
       "2017-01-03    False     False     False     False  \n",
       "2017-01-04    False     False     False     False  \n",
       "2017-01-05    False     False     False     False  \n",
       "...             ...       ...       ...       ...  \n",
       "2020-12-26    False     False     False      True  \n",
       "2020-12-27    False     False     False      True  \n",
       "2020-12-28    False     False     False      True  \n",
       "2020-12-29    False     False     False      True  \n",
       "2020-12-30    False     False     False      True  \n",
       "\n",
       "[1460 rows x 11 columns]"
      ]
     },
     "execution_count": 55,
     "metadata": {},
     "output_type": "execute_result"
    }
   ],
   "source": [
    "X_1 = pd.DataFrame(data=pd.get_dummies(X.index.month, drop_first=True, prefix=\"month\"))\n",
    "X_1.index = X.index\n",
    "X_1"
   ]
  },
  {
   "cell_type": "code",
   "execution_count": 56,
   "id": "LMpipxJBet4Z",
   "metadata": {
    "colab": {
     "base_uri": "https://localhost:8080/",
     "height": 407
    },
    "id": "LMpipxJBet4Z",
    "outputId": "b7bbe2ce-5a11-41ea-9043-1c936bac91b7"
   },
   "outputs": [
    {
     "data": {
      "image/png": "[encoded data removed]",
      "text/plain": [
       "<Figure size 1600x400 with 1 Axes>"
      ]
     },
     "metadata": {},
     "output_type": "display_data"
    }
   ],
   "source": [
    "model_1 = LinearRegression().fit(X_1.iloc[:TRAIN_END], y.iloc[:TRAIN_END])\n",
    "\n",
    "results_df[\"model_1\"] = model_1.predict(X_1)\n",
    "results_df[[\"actuals\", \"model_1\"]].plot(figsize=(16,4), title=\"Fit using month dummies\")\n",
    "\n",
    "plt.axvline(date(2020, 1, 1), c=\"m\", linestyle=\"--\");"
   ]
  },
  {
   "cell_type": "code",
   "execution_count": 57,
   "id": "WQ1fAogVhX1p",
   "metadata": {
    "colab": {
     "base_uri": "https://localhost:8080/"
    },
    "id": "WQ1fAogVhX1p",
    "outputId": "b6caafd0-ad51-4a74-881c-94363c74ae2c"
   },
   "outputs": [
    {
     "name": "stdout",
     "output_type": "stream",
     "text": [
      "0.9032966594007233\n",
      "0.9013303218307308\n"
     ]
    }
   ],
   "source": [
    "print(model_1.score(X_1.iloc[:TRAIN_END], y.iloc[:TRAIN_END]))\n",
    "print(model_1.score(X_1.iloc[TRAIN_END + 1:], y.iloc[TRAIN_END + 1:]))"
   ]
  },
  {
   "cell_type": "markdown",
   "id": "wmI5Qj_Lfds3",
   "metadata": {
    "id": "wmI5Qj_Lfds3"
   },
   "source": [
    "## Подход 2 - циклическое кодирование с синусом/косинусом"
   ]
  },
  {
   "cell_type": "code",
   "execution_count": 59,
   "id": "nx0hHvhrfcMb",
   "metadata": {
    "id": "nx0hHvhrfcMb"
   },
   "outputs": [],
   "source": [
    "def sin_transformer(period):\n",
    " return FunctionTransformer(lambda x: np.sin(x / period * 2 * np.pi))\n",
    "\n",
    "def cos_transformer(period):\n",
    " return FunctionTransformer(lambda x: np.cos(x / period * 2 * np.pi))"
   ]
  },
  {
   "cell_type": "code",
   "execution_count": 60,
   "id": "LF2jtLkEgLPF",
   "metadata": {
    "colab": {
     "base_uri": "https://localhost:8080/",
     "height": 772
    },
    "id": "LF2jtLkEgLPF",
    "outputId": "30fa1684-6225-4c02-e121-41c61bcd55f7"
   },
   "outputs": [
    {
     "data": {
      "image/png": "[encoded data removed]",
      "text/plain": [
       "<Figure size 1600x800 with 2 Axes>"
      ]
     },
     "metadata": {},
     "output_type": "display_data"
    }
   ],
   "source": [
    "X_2 = X.copy()\n",
    "X_2[\"month\"] = X_2.index.month\n",
    "\n",
    "X_2[\"month_sin\"] = sin_transformer(12).fit_transform(X_2)[\"month\"]\n",
    "X_2[\"month_cos\"] = cos_transformer(12).fit_transform(X_2)[\"month\"]\n",
    "\n",
    "X_2[\"day_sin\"] = sin_transformer(365).fit_transform(X_2)[\"day_of_year\"]\n",
    "X_2[\"day_cos\"] = cos_transformer(365).fit_transform(X_2)[\"day_of_year\"]\n",
    "\n",
    "fig, ax = plt.subplots(2, 1, sharex=True, figsize=(16,8))\n",
    "X_2[[\"month_sin\", \"month_cos\"]].plot(ax=ax[0])\n",
    "X_2[[\"day_sin\", \"day_cos\"]].plot(ax=ax[1])\n",
    "plt.suptitle(\"Cyclical encoding with sine/cosine transformation\");"
   ]
  },
  {
   "cell_type": "code",
   "execution_count": 61,
   "id": "0SV-DrMJhDZF",
   "metadata": {
    "colab": {
     "base_uri": "https://localhost:8080/",
     "height": 407
    },
    "id": "0SV-DrMJhDZF",
    "outputId": "e9f18f31-f5d5-45ad-873f-7133042bd49b"
   },
   "outputs": [
    {
     "data": {
      "image/png": "[encoded data removed]",
      "text/plain": [
       "<Figure size 1600x400 with 1 Axes>"
      ]
     },
     "metadata": {},
     "output_type": "display_data"
    }
   ],
   "source": [
    "X_2_daily = X_2[[\"day_sin\", \"day_cos\"]]\n",
    "\n",
    "model_2 = LinearRegression().fit(X_2_daily.iloc[:TRAIN_END],\n",
    " y.iloc[:TRAIN_END])\n",
    "\n",
    "results_df[\"model_2\"] = model_2.predict(X_2_daily)\n",
    "results_df[[\"actuals\", \"model_2\"]].plot(figsize=(16,4),\n",
    " title=\"Fit using sine/cosine features\")\n",
    "plt.axvline(date(2020, 1, 1), c=\"m\", linestyle=\"--\");"
   ]
  },
  {
   "cell_type": "code",
   "execution_count": 62,
   "id": "Z5kbmFCNiTNx",
   "metadata": {
    "colab": {
     "base_uri": "https://localhost:8080/"
    },
    "id": "Z5kbmFCNiTNx",
    "outputId": "1f9bffea-fe16-4a5e-d841-f679ba785f54"
   },
   "outputs": [
    {
     "name": "stdout",
     "output_type": "stream",
     "text": [
      "0.6100625066720329\n",
      "0.5899965166638506\n"
     ]
    }
   ],
   "source": [
    "print(model_2.score(X_2_daily.iloc[:TRAIN_END], y.iloc[:TRAIN_END]))\n",
    "print(model_2.score(X_2_daily.iloc[TRAIN_END + 1:], y.iloc[TRAIN_END + 1:]))"
   ]
  },
  {
   "cell_type": "code",
   "execution_count": 63,
   "id": "07fDS7sIivgf",
   "metadata": {
    "id": "07fDS7sIivgf"
   },
   "outputs": [],
   "source": [
    "X_concat = pd.concat([X_1, X_2_daily], axis=1)"
   ]
  },
  {
   "cell_type": "code",
   "execution_count": 64,
   "id": "nfg8euMGjbDV",
   "metadata": {
    "colab": {
     "base_uri": "https://localhost:8080/",
     "height": 407
    },
    "id": "nfg8euMGjbDV",
    "outputId": "8e8ae6fe-0b5b-41ca-90c0-00720b50300c"
   },
   "outputs": [
    {
     "data": {
      "image/png": "[encoded data removed]",
      "text/plain": [
       "<Figure size 1600x400 with 1 Axes>"
      ]
     },
     "metadata": {},
     "output_type": "display_data"
    }
   ],
   "source": [
    "model_concat = LinearRegression().fit(X_concat.iloc[:TRAIN_END], y.iloc[:TRAIN_END])\n",
    "\n",
    "results_df[\"model_3\"] = model_concat.predict(X_concat)\n",
    "results_df[[\"actuals\", \"model_3\"]].plot(figsize=(16,4), title=\"Fit using concat\")\n",
    "plt.axvline(date(2020, 1, 1), c=\"m\", linestyle=\"--\");"
   ]
  },
  {
   "cell_type": "code",
   "execution_count": 65,
   "id": "STbznJ1jjnu0",
   "metadata": {
    "colab": {
     "base_uri": "https://localhost:8080/"
    },
    "id": "STbznJ1jjnu0",
    "outputId": "2b07e90f-d3f3-482d-b427-a23cd59040bf"
   },
   "outputs": [
    {
     "name": "stdout",
     "output_type": "stream",
     "text": [
      "0.9211414853927441\n",
      "0.9145793856126095\n"
     ]
    }
   ],
   "source": [
    "print(model_concat.score(X_concat.iloc[:TRAIN_END], y.iloc[:TRAIN_END]))\n",
    "print(model_concat.score(X_concat.iloc[TRAIN_END + 1:], y.iloc[TRAIN_END + 1:]))"
   ]
  },
  {
   "cell_type": "markdown",
   "id": "Md6D33CJkHpE",
   "metadata": {
    "id": "Md6D33CJkHpE"
   },
   "source": [
    "## Подход 3 - радиальные базисные функции"
   ]
  },
  {
   "cell_type": "code",
   "execution_count": null,
   "id": "m19FBwuJkHXX",
   "metadata": {
    "colab": {
     "base_uri": "https://localhost:8080/",
     "height": 772
    },
    "id": "m19FBwuJkHXX",
    "outputId": "410c6568-e611-4ca9-de28-ba0a916420da"
   },
   "outputs": [],
   "source": []
  },
  {
   "cell_type": "code",
   "execution_count": null,
   "id": "snWWM8_YkGIo",
   "metadata": {
    "colab": {
     "base_uri": "https://localhost:8080/",
     "height": 407
    },
    "id": "snWWM8_YkGIo",
    "outputId": "c1b2af21-29a8-454b-a800-ce14a98d61c8"
   },
   "outputs": [],
   "source": []
  },
  {
   "cell_type": "code",
   "execution_count": null,
   "id": "-v3bcgTrkpm2",
   "metadata": {
    "colab": {
     "base_uri": "https://localhost:8080/"
    },
    "id": "-v3bcgTrkpm2",
    "outputId": "a09cb5dd-44ee-4d7f-b547-8d7029fe03c0"
   },
   "outputs": [],
   "source": []
  },
  {
   "cell_type": "markdown",
   "id": "b401f5ae-c2bc-4338-bde9-a3c487371b0b",
   "metadata": {
    "jp-MarkdownHeadingCollapsed": true
   },
   "source": [
    "# Создание новых признаков"
   ]
  },
  {
   "cell_type": "markdown",
   "id": "e8febd74-ba38-4fbe-ad6a-0b8a0763f3f6",
   "metadata": {
    "id": "e8febd74-ba38-4fbe-ad6a-0b8a0763f3f6"
   },
   "source": [
    "Полиномиальные признаки"
   ]
  },
  {
   "cell_type": "code",
   "execution_count": 69,
   "id": "50f5925c-22c8-4899-9ff5-2dd2abbf8dfe",
   "metadata": {
    "id": "50f5925c-22c8-4899-9ff5-2dd2abbf8dfe"
   },
   "outputs": [],
   "source": [
    "from sklearn.preprocessing import PolynomialFeatures"
   ]
  },
  {
   "cell_type": "code",
   "execution_count": 70,
   "id": "0c66baa7-de9a-449b-9433-2d4cca7b8876",
   "metadata": {
    "id": "0c66baa7-de9a-449b-9433-2d4cca7b8876",
    "outputId": "8fad9a7e-f095-4503-b441-8c17c245c607"
   },
   "outputs": [
    {
     "data": {
      "text/plain": [
       "array([[0, 1],\n",
       "       [2, 3],\n",
       "       [4, 5]])"
      ]
     },
     "execution_count": 70,
     "metadata": {},
     "output_type": "execute_result"
    }
   ],
   "source": [
    "X = np.arange(6).reshape(3, 2)\n",
    "X"
   ]
  },
  {
   "cell_type": "code",
   "execution_count": 71,
   "id": "c86a0668-e323-409d-bd54-8cbdb1947a2e",
   "metadata": {
    "id": "c86a0668-e323-409d-bd54-8cbdb1947a2e",
    "outputId": "ca3f074b-729a-49e6-8070-d2ba9f663223"
   },
   "outputs": [
    {
     "data": {
      "text/plain": [
       "array([[ 1.,  0.,  1.,  0.,  0.,  1.],\n",
       "       [ 1.,  2.,  3.,  4.,  6.,  9.],\n",
       "       [ 1.,  4.,  5., 16., 20., 25.]])"
      ]
     },
     "execution_count": 71,
     "metadata": {},
     "output_type": "execute_result"
    }
   ],
   "source": [
    "poly = PolynomialFeatures(2)\n",
    "poly.fit_transform(X)"
   ]
  },
  {
   "cell_type": "markdown",
   "id": "ac69912d-ee40-457f-b00a-cd27e098bd87",
   "metadata": {
    "id": "ac69912d-ee40-457f-b00a-cd27e098bd87"
   },
   "source": [
    "Другие преобразования: sin x, ln x"
   ]
  },
  {
   "cell_type": "markdown",
   "id": "32aa6592-4735-49b9-8e86-251e90c57ec8",
   "metadata": {
    "id": "32aa6592-4735-49b9-8e86-251e90c57ec8"
   },
   "source": [
    "Дискретизация и группировка по интервалам"
   ]
  },
  {
   "cell_type": "code",
   "execution_count": 74,
   "id": "3aa1155a-4039-4cfd-b688-74e8090b8311",
   "metadata": {
    "id": "3aa1155a-4039-4cfd-b688-74e8090b8311",
    "outputId": "e6c0ba62-28c2-40a7-a86f-e0371b7eb405"
   },
   "outputs": [
    {
     "data": {
      "text/plain": [
       "array([[<Axes: title={'center': '0'}>]], dtype=object)"
      ]
     },
     "execution_count": 74,
     "metadata": {},
     "output_type": "execute_result"
    },
    {
     "data": {
      "image/png": "[encoded data removed]",
      "text/plain": [
       "<Figure size 640x480 with 1 Axes>"
      ]
     },
     "metadata": {},
     "output_type": "display_data"
    }
   ],
   "source": [
    "ages = [20, 22, 25, 27, 21, 23, 37, 31, 61, 45, 41, 32]\n",
    "pd.DataFrame(ages).hist()"
   ]
  },
  {
   "cell_type": "code",
   "execution_count": 75,
   "id": "dca07e95-cb46-4c96-ac2e-6362f21a2369",
   "metadata": {
    "id": "dca07e95-cb46-4c96-ac2e-6362f21a2369",
    "outputId": "899bf006-0432-44c7-af3b-7ef4431a11e8"
   },
   "outputs": [
    {
     "data": {
      "text/plain": [
       "[(18, 25], (18, 25], (18, 25], (25, 35], (18, 25], ..., (25, 35], (60, 100], (35, 60], (35, 60], (25, 35]]\n",
       "Length: 12\n",
       "Categories (4, interval[int64, right]): [(18, 25] < (25, 35] < (35, 60] < (60, 100]]"
      ]
     },
     "execution_count": 75,
     "metadata": {},
     "output_type": "execute_result"
    }
   ],
   "source": [
    "bins = [18, 25, 35, 60, 100]\n",
    "age_categories = pd.cut(ages, bins)\n",
    "age_categories"
   ]
  },
  {
   "cell_type": "code",
   "execution_count": 76,
   "id": "baa240fe-6b8c-448b-b4da-18d031483166",
   "metadata": {
    "id": "baa240fe-6b8c-448b-b4da-18d031483166",
    "outputId": "ec20f7ad-c1b9-4633-9185-c61463daa810"
   },
   "outputs": [
    {
     "data": {
      "text/plain": [
       "array([0, 0, 0, 1, 0, 0, 2, 1, 3, 2, 2, 1], dtype=int8)"
      ]
     },
     "execution_count": 76,
     "metadata": {},
     "output_type": "execute_result"
    }
   ],
   "source": [
    "age_categories.codes"
   ]
  },
  {
   "cell_type": "markdown",
   "id": "6bfc2872-ce3f-4256-bc09-2b7c7555c0ad",
   "metadata": {
    "jp-MarkdownHeadingCollapsed": true
   },
   "source": [
    "# Преобразование данных"
   ]
  },
  {
   "cell_type": "markdown",
   "id": "2d222c6f-ee6e-4041-9e8b-c25a50398a26",
   "metadata": {
    "id": "2d222c6f-ee6e-4041-9e8b-c25a50398a26"
   },
   "source": [
    "Приведение к единой шкале: StandardScaler, MinMaxScaler"
   ]
  },
  {
   "cell_type": "code",
   "execution_count": 79,
   "id": "b92a017c-843a-4bcf-afba-285402875a54",
   "metadata": {
    "id": "b92a017c-843a-4bcf-afba-285402875a54",
    "outputId": "203fae72-6880-4db4-e21d-eec849604f36"
   },
   "outputs": [
    {
     "data": {
      "text/plain": [
       "array([[0.  , 0.  ],\n",
       "       [0.25, 0.25],\n",
       "       [0.5 , 0.5 ],\n",
       "       [1.  , 1.  ]])"
      ]
     },
     "execution_count": 79,
     "metadata": {},
     "output_type": "execute_result"
    }
   ],
   "source": [
    "from sklearn.preprocessing import MinMaxScaler, StandardScaler\n",
    "data = [[-1, 2], [-0.5, 6], [0, 10], [1, 18]]\n",
    "scaler = MinMaxScaler()\n",
    "scaler.fit_transform(data)"
   ]
  },
  {
   "cell_type": "code",
   "execution_count": 80,
   "id": "ef46712e-8843-4541-be10-8d70f8ecfbaf",
   "metadata": {
    "id": "ef46712e-8843-4541-be10-8d70f8ecfbaf",
    "outputId": "a3895bef-4c94-48a4-af38-daa5529d4a8e"
   },
   "outputs": [
    {
     "data": {
      "text/plain": [
       "array([[-1.18321596, -1.18321596],\n",
       "       [-0.50709255, -0.50709255],\n",
       "       [ 0.16903085,  0.16903085],\n",
       "       [ 1.52127766,  1.52127766]])"
      ]
     },
     "execution_count": 80,
     "metadata": {},
     "output_type": "execute_result"
    }
   ],
   "source": [
    "scaler = StandardScaler()\n",
    "scaler.fit_transform(data)"
   ]
  },
  {
   "cell_type": "markdown",
   "id": "6bcbefe2-9c43-49e3-b8df-573e62d6423b",
   "metadata": {
    "id": "6bcbefe2-9c43-49e3-b8df-573e62d6423b"
   },
   "source": [
    "Логарифмирование, преобразование Бокса-Кокса"
   ]
  },
  {
   "cell_type": "code",
   "execution_count": 82,
   "id": "604e42de-1f57-41bf-ab4a-593edeeb7590",
   "metadata": {
    "id": "604e42de-1f57-41bf-ab4a-593edeeb7590",
    "outputId": "464cf8a4-4fd8-49be-e7db-6504874e29e4"
   },
   "outputs": [
    {
     "name": "stderr",
     "output_type": "stream",
     "text": [
      "/tmp/ipykernel_3557/645094770.py:4: UserWarning: \n",
      "\n",
      "`distplot` is a deprecated function and will be removed in seaborn v0.14.0.\n",
      "\n",
      "Please adapt your code to use either `displot` (a figure-level function with\n",
      "similar flexibility) or `kdeplot` (an axes-level function for kernel density plots).\n",
      "\n",
      "For a guide to updating your code to use the new functions, please see\n",
      "https://gist.github.com/mwaskom/de44147ed2974457ad6372750bbe5751\n",
      "\n",
      "  sns.distplot(data, hist= False, kde= True)\n"
     ]
    },
    {
     "data": {
      "text/plain": [
       "<Axes: ylabel='Density'>"
      ]
     },
     "execution_count": 82,
     "metadata": {},
     "output_type": "execute_result"
    },
    {
     "data": {
      "image/png": "[encoded data removed]",
      "text/plain": [
       "<Figure size 640x480 with 1 Axes>"
      ]
     },
     "metadata": {},
     "output_type": "display_data"
    }
   ],
   "source": [
    "from scipy. stats import boxcox\n",
    "\n",
    "data = np.random.exponential(size= 1000)\n",
    "sns.distplot(data, hist= False, kde= True)"
   ]
  },
  {
   "cell_type": "code",
   "execution_count": 83,
   "id": "96781df3-e5ab-46e9-87bb-22a22e307dbb",
   "metadata": {
    "id": "96781df3-e5ab-46e9-87bb-22a22e307dbb",
    "outputId": "e7881d59-4137-4174-c547-5e4432fc94e9"
   },
   "outputs": [
    {
     "name": "stderr",
     "output_type": "stream",
     "text": [
      "/tmp/ipykernel_3557/2839650521.py:2: UserWarning: \n",
      "\n",
      "`distplot` is a deprecated function and will be removed in seaborn v0.14.0.\n",
      "\n",
      "Please adapt your code to use either `displot` (a figure-level function with\n",
      "similar flexibility) or `kdeplot` (an axes-level function for kernel density plots).\n",
      "\n",
      "For a guide to updating your code to use the new functions, please see\n",
      "https://gist.github.com/mwaskom/de44147ed2974457ad6372750bbe5751\n",
      "\n",
      "  sns.distplot(transformed_data, hist=False, kde=True)\n"
     ]
    },
    {
     "data": {
      "text/plain": [
       "<Axes: ylabel='Density'>"
      ]
     },
     "execution_count": 83,
     "metadata": {},
     "output_type": "execute_result"
    },
    {
     "data": {
      "image/png": "[encoded data removed]",
      "text/plain": [
       "<Figure size 640x480 with 1 Axes>"
      ]
     },
     "metadata": {},
     "output_type": "display_data"
    }
   ],
   "source": [
    "transformed_data = np.log(data)\n",
    "sns.distplot(transformed_data, hist=False, kde=True)"
   ]
  },
  {
   "cell_type": "code",
   "execution_count": 84,
   "id": "9a13da8f-35f1-4d08-bc3a-3fb90b302bc2",
   "metadata": {
    "id": "9a13da8f-35f1-4d08-bc3a-3fb90b302bc2",
    "outputId": "4df10c54-0ce0-4ced-a8dc-5035a77de79a"
   },
   "outputs": [
    {
     "name": "stderr",
     "output_type": "stream",
     "text": [
      "/tmp/ipykernel_3557/673703192.py:3: UserWarning: \n",
      "\n",
      "`distplot` is a deprecated function and will be removed in seaborn v0.14.0.\n",
      "\n",
      "Please adapt your code to use either `displot` (a figure-level function with\n",
      "similar flexibility) or `kdeplot` (an axes-level function for kernel density plots).\n",
      "\n",
      "For a guide to updating your code to use the new functions, please see\n",
      "https://gist.github.com/mwaskom/de44147ed2974457ad6372750bbe5751\n",
      "\n",
      "  sns.distplot(transformed_data, hist=False , kde=True)\n"
     ]
    },
    {
     "data": {
      "text/plain": [
       "<Axes: ylabel='Density'>"
      ]
     },
     "execution_count": 84,
     "metadata": {},
     "output_type": "execute_result"
    },
    {
     "data": {
      "image/png": "[encoded data removed]",
      "text/plain": [
       "<Figure size 640x480 with 1 Axes>"
      ]
     },
     "metadata": {},
     "output_type": "display_data"
    }
   ],
   "source": [
    "transformed_data, best_lambda = boxcox(data)\n",
    "\n",
    "sns.distplot(transformed_data, hist=False , kde=True)"
   ]
  },
  {
   "cell_type": "code",
   "execution_count": 85,
   "id": "e5cdd77b-ad3f-496c-9263-055f4caa1bc9",
   "metadata": {
    "id": "e5cdd77b-ad3f-496c-9263-055f4caa1bc9",
    "outputId": "1705508d-4da3-412d-9486-e7cd3ddc293c"
   },
   "outputs": [
    {
     "data": {
      "text/plain": [
       "0.28094034465168566"
      ]
     },
     "execution_count": 85,
     "metadata": {},
     "output_type": "execute_result"
    }
   ],
   "source": [
    "best_lambda"
   ]
  },
  {
   "cell_type": "markdown",
   "id": "682fe102-6387-40c9-9dd1-51ce07fdf058",
   "metadata": {
    "id": "682fe102-6387-40c9-9dd1-51ce07fdf058"
   },
   "source": [
    "# Домашнее задание"
   ]
  },
  {
   "cell_type": "code",
   "execution_count": 87,
   "id": "b4fde0e8-d4c8-4c23-99d9-2d84a69425a6",
   "metadata": {
    "id": "b4fde0e8-d4c8-4c23-99d9-2d84a69425a6"
   },
   "outputs": [],
   "source": [
    "df = pd.read_csv(\"https://raw.githubusercontent.com/katarina74/ml_lessons/main/lesson_2/data/techparams_train.csv\")"
   ]
  },
  {
   "cell_type": "markdown",
   "id": "fdbe8986-3152-4eee-bc60-a83551afee1e",
   "metadata": {
    "id": "fdbe8986-3152-4eee-bc60-a83551afee1e"
   },
   "source": [
    "Данные: технические характеристики разных конфигураций автомобилей\n",
    "\n",
    "Таргет: длина колесной базы конфигурации (в миллиметрах).\n",
    "\n",
    "Задача: добиться наименьшего MSE на test."
   ]
  },
  {
   "cell_type": "markdown",
   "id": "bc8d20f3-a6db-4e6c-be0c-d92bfbd393af",
   "metadata": {
    "id": "bc8d20f3-a6db-4e6c-be0c-d92bfbd393af"
   },
   "source": [
    "## Baseline"
   ]
  },
  {
   "cell_type": "code",
   "execution_count": 90,
   "id": "22039f8f-d6d8-4998-8ec1-3b83facf013f",
   "metadata": {
    "id": "22039f8f-d6d8-4998-8ec1-3b83facf013f"
   },
   "outputs": [],
   "source": [
    "from sklearn.model_selection import train_test_split\n",
    "from sklearn.linear_model import LinearRegression\n",
    "from sklearn.metrics import mean_squared_error"
   ]
  },
  {
   "cell_type": "code",
   "execution_count": 91,
   "id": "3767a749-ce5b-4109-8549-8a8fb47c8e24",
   "metadata": {},
   "outputs": [
    {
     "data": {
      "text/html": [
       "<div>\n",
       "<style scoped>\n",
       "    .dataframe tbody tr th:only-of-type {\n",
       "        vertical-align: middle;\n",
       "    }\n",
       "\n",
       "    .dataframe tbody tr th {\n",
       "        vertical-align: top;\n",
       "    }\n",
       "\n",
       "    .dataframe thead th {\n",
       "        text-align: right;\n",
       "    }\n",
       "</style>\n",
       "<table border=\"1\" class=\"dataframe\">\n",
       "  <thead>\n",
       "    <tr style=\"text-align: right;\">\n",
       "      <th></th>\n",
       "      <th>index</th>\n",
       "      <th>back-suspension</th>\n",
       "      <th>battery-capacity</th>\n",
       "      <th>charge-time</th>\n",
       "      <th>compression</th>\n",
       "      <th>consumption-mixed</th>\n",
       "      <th>cylinders-order</th>\n",
       "      <th>cylinders-value</th>\n",
       "      <th>engine-feeding</th>\n",
       "      <th>engine-start</th>\n",
       "      <th>...</th>\n",
       "      <th>configurations_front-brake</th>\n",
       "      <th>configurations_safety-rating</th>\n",
       "      <th>configurations_seats</th>\n",
       "      <th>configurations_tank-volume</th>\n",
       "      <th>supergen_year-stop</th>\n",
       "      <th>models_country-from</th>\n",
       "      <th>models_group</th>\n",
       "      <th>models_light-and-commercial</th>\n",
       "      <th>models_male</th>\n",
       "      <th>target</th>\n",
       "    </tr>\n",
       "  </thead>\n",
       "  <tbody>\n",
       "    <tr>\n",
       "      <th>34100</th>\n",
       "      <td>48335</td>\n",
       "      <td>3</td>\n",
       "      <td>-1.0</td>\n",
       "      <td>33105</td>\n",
       "      <td>9.0</td>\n",
       "      <td>-1.0</td>\n",
       "      <td>3</td>\n",
       "      <td>7</td>\n",
       "      <td>4</td>\n",
       "      <td>2007</td>\n",
       "      <td>...</td>\n",
       "      <td>4</td>\n",
       "      <td>2</td>\n",
       "      <td>13</td>\n",
       "      <td>66.0</td>\n",
       "      <td>2011.0</td>\n",
       "      <td>35</td>\n",
       "      <td>3</td>\n",
       "      <td>0</td>\n",
       "      <td>1</td>\n",
       "      <td>2956</td>\n",
       "    </tr>\n",
       "    <tr>\n",
       "      <th>15402</th>\n",
       "      <td>21893</td>\n",
       "      <td>3</td>\n",
       "      <td>-1.0</td>\n",
       "      <td>45724</td>\n",
       "      <td>16.5</td>\n",
       "      <td>6.9</td>\n",
       "      <td>0</td>\n",
       "      <td>6</td>\n",
       "      <td>5</td>\n",
       "      <td>2008</td>\n",
       "      <td>...</td>\n",
       "      <td>4</td>\n",
       "      <td>2</td>\n",
       "      <td>13</td>\n",
       "      <td>63.0</td>\n",
       "      <td>2013.0</td>\n",
       "      <td>10</td>\n",
       "      <td>3</td>\n",
       "      <td>0</td>\n",
       "      <td>1</td>\n",
       "      <td>2760</td>\n",
       "    </tr>\n",
       "    <tr>\n",
       "      <th>37962</th>\n",
       "      <td>53782</td>\n",
       "      <td>0</td>\n",
       "      <td>-1.0</td>\n",
       "      <td>8578</td>\n",
       "      <td>10.0</td>\n",
       "      <td>5.2</td>\n",
       "      <td>0</td>\n",
       "      <td>3</td>\n",
       "      <td>4</td>\n",
       "      <td>2003</td>\n",
       "      <td>...</td>\n",
       "      <td>1</td>\n",
       "      <td>2</td>\n",
       "      <td>8</td>\n",
       "      <td>30.0</td>\n",
       "      <td>2005.0</td>\n",
       "      <td>16</td>\n",
       "      <td>3</td>\n",
       "      <td>0</td>\n",
       "      <td>1</td>\n",
       "      <td>2340</td>\n",
       "    </tr>\n",
       "    <tr>\n",
       "      <th>17206</th>\n",
       "      <td>24447</td>\n",
       "      <td>3</td>\n",
       "      <td>-1.0</td>\n",
       "      <td>59506</td>\n",
       "      <td>10.5</td>\n",
       "      <td>10.4</td>\n",
       "      <td>3</td>\n",
       "      <td>6</td>\n",
       "      <td>4</td>\n",
       "      <td>2015</td>\n",
       "      <td>...</td>\n",
       "      <td>4</td>\n",
       "      <td>2</td>\n",
       "      <td>30</td>\n",
       "      <td>72.0</td>\n",
       "      <td>2018.0</td>\n",
       "      <td>16</td>\n",
       "      <td>3</td>\n",
       "      <td>0</td>\n",
       "      <td>1</td>\n",
       "      <td>2819</td>\n",
       "    </tr>\n",
       "    <tr>\n",
       "      <th>22072</th>\n",
       "      <td>31256</td>\n",
       "      <td>3</td>\n",
       "      <td>-1.0</td>\n",
       "      <td>43632</td>\n",
       "      <td>16.5</td>\n",
       "      <td>4.9</td>\n",
       "      <td>0</td>\n",
       "      <td>4</td>\n",
       "      <td>5</td>\n",
       "      <td>2018</td>\n",
       "      <td>...</td>\n",
       "      <td>4</td>\n",
       "      <td>2</td>\n",
       "      <td>13</td>\n",
       "      <td>51.0</td>\n",
       "      <td>-1.0</td>\n",
       "      <td>10</td>\n",
       "      <td>3</td>\n",
       "      <td>0</td>\n",
       "      <td>1</td>\n",
       "      <td>2760</td>\n",
       "    </tr>\n",
       "    <tr>\n",
       "      <th>12690</th>\n",
       "      <td>18073</td>\n",
       "      <td>3</td>\n",
       "      <td>-1.0</td>\n",
       "      <td>49791</td>\n",
       "      <td>-1.0</td>\n",
       "      <td>-1.0</td>\n",
       "      <td>0</td>\n",
       "      <td>4</td>\n",
       "      <td>6</td>\n",
       "      <td>1997</td>\n",
       "      <td>...</td>\n",
       "      <td>4</td>\n",
       "      <td>2</td>\n",
       "      <td>13</td>\n",
       "      <td>62.0</td>\n",
       "      <td>2001.0</td>\n",
       "      <td>10</td>\n",
       "      <td>3</td>\n",
       "      <td>0</td>\n",
       "      <td>1</td>\n",
       "      <td>2690</td>\n",
       "    </tr>\n",
       "    <tr>\n",
       "      <th>34267</th>\n",
       "      <td>48560</td>\n",
       "      <td>8</td>\n",
       "      <td>-1.0</td>\n",
       "      <td>41930</td>\n",
       "      <td>8.4</td>\n",
       "      <td>-1.0</td>\n",
       "      <td>0</td>\n",
       "      <td>5</td>\n",
       "      <td>4</td>\n",
       "      <td>1985</td>\n",
       "      <td>...</td>\n",
       "      <td>1</td>\n",
       "      <td>2</td>\n",
       "      <td>13</td>\n",
       "      <td>-1.0</td>\n",
       "      <td>1988.0</td>\n",
       "      <td>10</td>\n",
       "      <td>3</td>\n",
       "      <td>0</td>\n",
       "      <td>1</td>\n",
       "      <td>2690</td>\n",
       "    </tr>\n",
       "    <tr>\n",
       "      <th>14165</th>\n",
       "      <td>20129</td>\n",
       "      <td>8</td>\n",
       "      <td>-1.0</td>\n",
       "      <td>53547</td>\n",
       "      <td>9.3</td>\n",
       "      <td>-1.0</td>\n",
       "      <td>0</td>\n",
       "      <td>4</td>\n",
       "      <td>4</td>\n",
       "      <td>2008</td>\n",
       "      <td>...</td>\n",
       "      <td>4</td>\n",
       "      <td>2</td>\n",
       "      <td>13</td>\n",
       "      <td>35.0</td>\n",
       "      <td>2016.0</td>\n",
       "      <td>5</td>\n",
       "      <td>3</td>\n",
       "      <td>0</td>\n",
       "      <td>1</td>\n",
       "      <td>2340</td>\n",
       "    </tr>\n",
       "    <tr>\n",
       "      <th>38659</th>\n",
       "      <td>54765</td>\n",
       "      <td>3</td>\n",
       "      <td>-1.0</td>\n",
       "      <td>26897</td>\n",
       "      <td>9.5</td>\n",
       "      <td>-1.0</td>\n",
       "      <td>0</td>\n",
       "      <td>4</td>\n",
       "      <td>4</td>\n",
       "      <td>1996</td>\n",
       "      <td>...</td>\n",
       "      <td>4</td>\n",
       "      <td>2</td>\n",
       "      <td>13</td>\n",
       "      <td>60.0</td>\n",
       "      <td>2001.0</td>\n",
       "      <td>16</td>\n",
       "      <td>3</td>\n",
       "      <td>0</td>\n",
       "      <td>0</td>\n",
       "      <td>2580</td>\n",
       "    </tr>\n",
       "    <tr>\n",
       "      <th>14957</th>\n",
       "      <td>21240</td>\n",
       "      <td>8</td>\n",
       "      <td>-1.0</td>\n",
       "      <td>49625</td>\n",
       "      <td>-1.0</td>\n",
       "      <td>-1.0</td>\n",
       "      <td>0</td>\n",
       "      <td>3</td>\n",
       "      <td>4</td>\n",
       "      <td>2011</td>\n",
       "      <td>...</td>\n",
       "      <td>4</td>\n",
       "      <td>1</td>\n",
       "      <td>13</td>\n",
       "      <td>35.0</td>\n",
       "      <td>2015.0</td>\n",
       "      <td>26</td>\n",
       "      <td>3</td>\n",
       "      <td>0</td>\n",
       "      <td>1</td>\n",
       "      <td>2385</td>\n",
       "    </tr>\n",
       "    <tr>\n",
       "      <th>8288</th>\n",
       "      <td>11765</td>\n",
       "      <td>0</td>\n",
       "      <td>-1.0</td>\n",
       "      <td>27817</td>\n",
       "      <td>10.0</td>\n",
       "      <td>-1.0</td>\n",
       "      <td>3</td>\n",
       "      <td>6</td>\n",
       "      <td>4</td>\n",
       "      <td>2012</td>\n",
       "      <td>...</td>\n",
       "      <td>4</td>\n",
       "      <td>2</td>\n",
       "      <td>28</td>\n",
       "      <td>93.0</td>\n",
       "      <td>2015.0</td>\n",
       "      <td>16</td>\n",
       "      <td>3</td>\n",
       "      <td>0</td>\n",
       "      <td>1</td>\n",
       "      <td>2850</td>\n",
       "    </tr>\n",
       "    <tr>\n",
       "      <th>38715</th>\n",
       "      <td>54845</td>\n",
       "      <td>8</td>\n",
       "      <td>-1.0</td>\n",
       "      <td>12752</td>\n",
       "      <td>10.5</td>\n",
       "      <td>7.9</td>\n",
       "      <td>0</td>\n",
       "      <td>4</td>\n",
       "      <td>4</td>\n",
       "      <td>1998</td>\n",
       "      <td>...</td>\n",
       "      <td>4</td>\n",
       "      <td>2</td>\n",
       "      <td>13</td>\n",
       "      <td>52.0</td>\n",
       "      <td>2009.0</td>\n",
       "      <td>10</td>\n",
       "      <td>3</td>\n",
       "      <td>0</td>\n",
       "      <td>1</td>\n",
       "      <td>2606</td>\n",
       "    </tr>\n",
       "    <tr>\n",
       "      <th>32347</th>\n",
       "      <td>45832</td>\n",
       "      <td>3</td>\n",
       "      <td>-1.0</td>\n",
       "      <td>44666</td>\n",
       "      <td>18.0</td>\n",
       "      <td>5.6</td>\n",
       "      <td>0</td>\n",
       "      <td>4</td>\n",
       "      <td>5</td>\n",
       "      <td>2007</td>\n",
       "      <td>...</td>\n",
       "      <td>4</td>\n",
       "      <td>2</td>\n",
       "      <td>4</td>\n",
       "      <td>55.0</td>\n",
       "      <td>2010.0</td>\n",
       "      <td>10</td>\n",
       "      <td>3</td>\n",
       "      <td>0</td>\n",
       "      <td>1</td>\n",
       "      <td>2468</td>\n",
       "    </tr>\n",
       "    <tr>\n",
       "      <th>41248</th>\n",
       "      <td>58475</td>\n",
       "      <td>3</td>\n",
       "      <td>-1.0</td>\n",
       "      <td>13121</td>\n",
       "      <td>9.9</td>\n",
       "      <td>-1.0</td>\n",
       "      <td>0</td>\n",
       "      <td>4</td>\n",
       "      <td>4</td>\n",
       "      <td>2002</td>\n",
       "      <td>...</td>\n",
       "      <td>4</td>\n",
       "      <td>2</td>\n",
       "      <td>13</td>\n",
       "      <td>50.0</td>\n",
       "      <td>2004.0</td>\n",
       "      <td>16</td>\n",
       "      <td>3</td>\n",
       "      <td>0</td>\n",
       "      <td>1</td>\n",
       "      <td>2535</td>\n",
       "    </tr>\n",
       "    <tr>\n",
       "      <th>11786</th>\n",
       "      <td>16825</td>\n",
       "      <td>3</td>\n",
       "      <td>-1.0</td>\n",
       "      <td>56936</td>\n",
       "      <td>16.7</td>\n",
       "      <td>4.1</td>\n",
       "      <td>0</td>\n",
       "      <td>4</td>\n",
       "      <td>5</td>\n",
       "      <td>2014</td>\n",
       "      <td>...</td>\n",
       "      <td>4</td>\n",
       "      <td>2</td>\n",
       "      <td>13</td>\n",
       "      <td>62.0</td>\n",
       "      <td>-1.0</td>\n",
       "      <td>35</td>\n",
       "      <td>3</td>\n",
       "      <td>0</td>\n",
       "      <td>1</td>\n",
       "      <td>2850</td>\n",
       "    </tr>\n",
       "    <tr>\n",
       "      <th>14943</th>\n",
       "      <td>21224</td>\n",
       "      <td>3</td>\n",
       "      <td>-1.0</td>\n",
       "      <td>13319</td>\n",
       "      <td>-1.0</td>\n",
       "      <td>-1.0</td>\n",
       "      <td>0</td>\n",
       "      <td>4</td>\n",
       "      <td>4</td>\n",
       "      <td>1991</td>\n",
       "      <td>...</td>\n",
       "      <td>4</td>\n",
       "      <td>2</td>\n",
       "      <td>27</td>\n",
       "      <td>60.0</td>\n",
       "      <td>1994.0</td>\n",
       "      <td>16</td>\n",
       "      <td>3</td>\n",
       "      <td>0</td>\n",
       "      <td>1</td>\n",
       "      <td>2750</td>\n",
       "    </tr>\n",
       "    <tr>\n",
       "      <th>15176</th>\n",
       "      <td>21575</td>\n",
       "      <td>8</td>\n",
       "      <td>-1.0</td>\n",
       "      <td>27421</td>\n",
       "      <td>11.0</td>\n",
       "      <td>7.9</td>\n",
       "      <td>0</td>\n",
       "      <td>4</td>\n",
       "      <td>4</td>\n",
       "      <td>1995</td>\n",
       "      <td>...</td>\n",
       "      <td>4</td>\n",
       "      <td>2</td>\n",
       "      <td>13</td>\n",
       "      <td>55.0</td>\n",
       "      <td>2000.0</td>\n",
       "      <td>16</td>\n",
       "      <td>3</td>\n",
       "      <td>0</td>\n",
       "      <td>0</td>\n",
       "      <td>2461</td>\n",
       "    </tr>\n",
       "    <tr>\n",
       "      <th>43116</th>\n",
       "      <td>61054</td>\n",
       "      <td>3</td>\n",
       "      <td>-1.0</td>\n",
       "      <td>36103</td>\n",
       "      <td>-1.0</td>\n",
       "      <td>6.4</td>\n",
       "      <td>0</td>\n",
       "      <td>3</td>\n",
       "      <td>4</td>\n",
       "      <td>2018</td>\n",
       "      <td>...</td>\n",
       "      <td>4</td>\n",
       "      <td>2</td>\n",
       "      <td>13</td>\n",
       "      <td>52.0</td>\n",
       "      <td>-1.0</td>\n",
       "      <td>35</td>\n",
       "      <td>3</td>\n",
       "      <td>0</td>\n",
       "      <td>1</td>\n",
       "      <td>2519</td>\n",
       "    </tr>\n",
       "    <tr>\n",
       "      <th>34256</th>\n",
       "      <td>48544</td>\n",
       "      <td>3</td>\n",
       "      <td>-1.0</td>\n",
       "      <td>9780</td>\n",
       "      <td>-1.0</td>\n",
       "      <td>14.0</td>\n",
       "      <td>3</td>\n",
       "      <td>6</td>\n",
       "      <td>1</td>\n",
       "      <td>2004</td>\n",
       "      <td>...</td>\n",
       "      <td>4</td>\n",
       "      <td>2</td>\n",
       "      <td>14</td>\n",
       "      <td>75.0</td>\n",
       "      <td>2010.0</td>\n",
       "      <td>10</td>\n",
       "      <td>3</td>\n",
       "      <td>0</td>\n",
       "      <td>1</td>\n",
       "      <td>3200</td>\n",
       "    </tr>\n",
       "    <tr>\n",
       "      <th>38465</th>\n",
       "      <td>54492</td>\n",
       "      <td>3</td>\n",
       "      <td>-1.0</td>\n",
       "      <td>2189</td>\n",
       "      <td>16.5</td>\n",
       "      <td>5.3</td>\n",
       "      <td>0</td>\n",
       "      <td>4</td>\n",
       "      <td>5</td>\n",
       "      <td>2013</td>\n",
       "      <td>...</td>\n",
       "      <td>4</td>\n",
       "      <td>2</td>\n",
       "      <td>13</td>\n",
       "      <td>70.0</td>\n",
       "      <td>2017.0</td>\n",
       "      <td>10</td>\n",
       "      <td>3</td>\n",
       "      <td>0</td>\n",
       "      <td>1</td>\n",
       "      <td>2737</td>\n",
       "    </tr>\n",
       "  </tbody>\n",
       "</table>\n",
       "<p>20 rows × 32 columns</p>\n",
       "</div>"
      ],
      "text/plain": [
       "       index  back-suspension  battery-capacity  charge-time  compression  \\\n",
       "34100  48335                3              -1.0        33105          9.0   \n",
       "15402  21893                3              -1.0        45724         16.5   \n",
       "37962  53782                0              -1.0         8578         10.0   \n",
       "17206  24447                3              -1.0        59506         10.5   \n",
       "22072  31256                3              -1.0        43632         16.5   \n",
       "12690  18073                3              -1.0        49791         -1.0   \n",
       "34267  48560                8              -1.0        41930          8.4   \n",
       "14165  20129                8              -1.0        53547          9.3   \n",
       "38659  54765                3              -1.0        26897          9.5   \n",
       "14957  21240                8              -1.0        49625         -1.0   \n",
       "8288   11765                0              -1.0        27817         10.0   \n",
       "38715  54845                8              -1.0        12752         10.5   \n",
       "32347  45832                3              -1.0        44666         18.0   \n",
       "41248  58475                3              -1.0        13121          9.9   \n",
       "11786  16825                3              -1.0        56936         16.7   \n",
       "14943  21224                3              -1.0        13319         -1.0   \n",
       "15176  21575                8              -1.0        27421         11.0   \n",
       "43116  61054                3              -1.0        36103         -1.0   \n",
       "34256  48544                3              -1.0         9780         -1.0   \n",
       "38465  54492                3              -1.0         2189         16.5   \n",
       "\n",
       "       consumption-mixed  cylinders-order  cylinders-value  engine-feeding  \\\n",
       "34100               -1.0                3                7               4   \n",
       "15402                6.9                0                6               5   \n",
       "37962                5.2                0                3               4   \n",
       "17206               10.4                3                6               4   \n",
       "22072                4.9                0                4               5   \n",
       "12690               -1.0                0                4               6   \n",
       "34267               -1.0                0                5               4   \n",
       "14165               -1.0                0                4               4   \n",
       "38659               -1.0                0                4               4   \n",
       "14957               -1.0                0                3               4   \n",
       "8288                -1.0                3                6               4   \n",
       "38715                7.9                0                4               4   \n",
       "32347                5.6                0                4               5   \n",
       "41248               -1.0                0                4               4   \n",
       "11786                4.1                0                4               5   \n",
       "14943               -1.0                0                4               4   \n",
       "15176                7.9                0                4               4   \n",
       "43116                6.4                0                3               4   \n",
       "34256               14.0                3                6               1   \n",
       "38465                5.3                0                4               5   \n",
       "\n",
       "       engine-start  ...  configurations_front-brake  \\\n",
       "34100          2007  ...                           4   \n",
       "15402          2008  ...                           4   \n",
       "37962          2003  ...                           1   \n",
       "17206          2015  ...                           4   \n",
       "22072          2018  ...                           4   \n",
       "12690          1997  ...                           4   \n",
       "34267          1985  ...                           1   \n",
       "14165          2008  ...                           4   \n",
       "38659          1996  ...                           4   \n",
       "14957          2011  ...                           4   \n",
       "8288           2012  ...                           4   \n",
       "38715          1998  ...                           4   \n",
       "32347          2007  ...                           4   \n",
       "41248          2002  ...                           4   \n",
       "11786          2014  ...                           4   \n",
       "14943          1991  ...                           4   \n",
       "15176          1995  ...                           4   \n",
       "43116          2018  ...                           4   \n",
       "34256          2004  ...                           4   \n",
       "38465          2013  ...                           4   \n",
       "\n",
       "       configurations_safety-rating  configurations_seats  \\\n",
       "34100                             2                    13   \n",
       "15402                             2                    13   \n",
       "37962                             2                     8   \n",
       "17206                             2                    30   \n",
       "22072                             2                    13   \n",
       "12690                             2                    13   \n",
       "34267                             2                    13   \n",
       "14165                             2                    13   \n",
       "38659                             2                    13   \n",
       "14957                             1                    13   \n",
       "8288                              2                    28   \n",
       "38715                             2                    13   \n",
       "32347                             2                     4   \n",
       "41248                             2                    13   \n",
       "11786                             2                    13   \n",
       "14943                             2                    27   \n",
       "15176                             2                    13   \n",
       "43116                             2                    13   \n",
       "34256                             2                    14   \n",
       "38465                             2                    13   \n",
       "\n",
       "       configurations_tank-volume  supergen_year-stop  models_country-from  \\\n",
       "34100                        66.0              2011.0                   35   \n",
       "15402                        63.0              2013.0                   10   \n",
       "37962                        30.0              2005.0                   16   \n",
       "17206                        72.0              2018.0                   16   \n",
       "22072                        51.0                -1.0                   10   \n",
       "12690                        62.0              2001.0                   10   \n",
       "34267                        -1.0              1988.0                   10   \n",
       "14165                        35.0              2016.0                    5   \n",
       "38659                        60.0              2001.0                   16   \n",
       "14957                        35.0              2015.0                   26   \n",
       "8288                         93.0              2015.0                   16   \n",
       "38715                        52.0              2009.0                   10   \n",
       "32347                        55.0              2010.0                   10   \n",
       "41248                        50.0              2004.0                   16   \n",
       "11786                        62.0                -1.0                   35   \n",
       "14943                        60.0              1994.0                   16   \n",
       "15176                        55.0              2000.0                   16   \n",
       "43116                        52.0                -1.0                   35   \n",
       "34256                        75.0              2010.0                   10   \n",
       "38465                        70.0              2017.0                   10   \n",
       "\n",
       "       models_group  models_light-and-commercial  models_male  target  \n",
       "34100             3                            0            1    2956  \n",
       "15402             3                            0            1    2760  \n",
       "37962             3                            0            1    2340  \n",
       "17206             3                            0            1    2819  \n",
       "22072             3                            0            1    2760  \n",
       "12690             3                            0            1    2690  \n",
       "34267             3                            0            1    2690  \n",
       "14165             3                            0            1    2340  \n",
       "38659             3                            0            0    2580  \n",
       "14957             3                            0            1    2385  \n",
       "8288              3                            0            1    2850  \n",
       "38715             3                            0            1    2606  \n",
       "32347             3                            0            1    2468  \n",
       "41248             3                            0            1    2535  \n",
       "11786             3                            0            1    2850  \n",
       "14943             3                            0            1    2750  \n",
       "15176             3                            0            0    2461  \n",
       "43116             3                            0            1    2519  \n",
       "34256             3                            0            1    3200  \n",
       "38465             3                            0            1    2737  \n",
       "\n",
       "[20 rows x 32 columns]"
      ]
     },
     "execution_count": 91,
     "metadata": {},
     "output_type": "execute_result"
    }
   ],
   "source": [
    "df.sample(20)"
   ]
  },
  {
   "cell_type": "code",
   "execution_count": 92,
   "id": "a92eb3dc-7f7e-4fe4-8807-ff82248b4bf9",
   "metadata": {},
   "outputs": [
    {
     "data": {
      "text/plain": [
       "index                             0\n",
       "back-suspension                   0\n",
       "battery-capacity                  0\n",
       "charge-time                       0\n",
       "compression                       0\n",
       "consumption-mixed                 0\n",
       "cylinders-order                   0\n",
       "cylinders-value                   0\n",
       "engine-feeding                    0\n",
       "engine-start                      0\n",
       "engine-stop                       0\n",
       "engine-type                       0\n",
       "gear-type                         0\n",
       "luxury                            0\n",
       "max-speed                         0\n",
       "power-electro-kw                  0\n",
       "supply-system                     0\n",
       "valves                            0\n",
       "valvetrain                        0\n",
       "weight                            0\n",
       "configurations_auto-premiere      0\n",
       "configurations_back-wheel-base    0\n",
       "configurations_front-brake        0\n",
       "configurations_safety-rating      0\n",
       "configurations_seats              0\n",
       "configurations_tank-volume        0\n",
       "supergen_year-stop                0\n",
       "models_country-from               0\n",
       "models_group                      0\n",
       "models_light-and-commercial       0\n",
       "models_male                       0\n",
       "target                            0\n",
       "dtype: int64"
      ]
     },
     "execution_count": 92,
     "metadata": {},
     "output_type": "execute_result"
    }
   ],
   "source": [
    "df.isna().sum() #проверим на пропуски в данных"
   ]
  },
  {
   "cell_type": "markdown",
   "id": "3563ceba-b919-48c4-a346-7fae913b518c",
   "metadata": {},
   "source": [
    "**Пропусков не оказалось, но заметим, что многие столбцы содержат ячейки с -1. Потенциально -1 может быть пропуском, посмотрим где она встречается**"
   ]
  },
  {
   "cell_type": "code",
   "execution_count": 94,
   "id": "35e71d30-b90a-4e04-916a-48585592cc4a",
   "metadata": {},
   "outputs": [
    {
     "data": {
      "text/plain": [
       "index                                 0\n",
       "back-suspension                       0\n",
       "battery-capacity                  43093\n",
       "charge-time                           0\n",
       "compression                        9320\n",
       "consumption-mixed                 17271\n",
       "cylinders-order                       0\n",
       "cylinders-value                       0\n",
       "engine-feeding                        0\n",
       "engine-start                          0\n",
       "engine-stop                           0\n",
       "engine-type                           0\n",
       "gear-type                             0\n",
       "luxury                                0\n",
       "max-speed                         14885\n",
       "power-electro-kw                  43032\n",
       "supply-system                         0\n",
       "valves                                0\n",
       "valvetrain                            0\n",
       "weight                             9399\n",
       "configurations_auto-premiere          0\n",
       "configurations_back-wheel-base     3067\n",
       "configurations_front-brake            0\n",
       "configurations_safety-rating          0\n",
       "configurations_seats                  0\n",
       "configurations_tank-volume         5408\n",
       "supergen_year-stop                 4576\n",
       "models_country-from                   0\n",
       "models_group                          0\n",
       "models_light-and-commercial           0\n",
       "models_male                           0\n",
       "target                                0\n",
       "dtype: int64"
      ]
     },
     "execution_count": 94,
     "metadata": {},
     "output_type": "execute_result"
    }
   ],
   "source": [
    "df.isin([-1]).sum()"
   ]
  },
  {
   "cell_type": "markdown",
   "id": "11b91d34-2bbc-402a-9c07-926b4cf5505d",
   "metadata": {},
   "source": [
    "**В столбцах battery-capacity и power-electro-kw -1 составляет больше 90% данных, восстановить мы их не сможем. А вот в других столбцах количество пропусков приемлемо, заменим -1 на NaN, а потом заполним медианным значением. (P.S. cтолбцы с большими пропусками тоже заполним, но после не возьмем их для обучения модели)**"
   ]
  },
  {
   "cell_type": "code",
   "execution_count": 96,
   "id": "05eaa680-a3c1-4821-baa0-abd490c29dc5",
   "metadata": {},
   "outputs": [],
   "source": [
    "df.replace(-1, np.nan, inplace=True)\n",
    "df.fillna(df.median(), inplace=True)"
   ]
  },
  {
   "cell_type": "code",
   "execution_count": 97,
   "id": "c2c5d4c8-0dc3-4b87-bbbf-b7d5cb44f3bd",
   "metadata": {},
   "outputs": [],
   "source": [
    "corr_matrix = df.corr()\n",
    "#смотрим матрицу корреляции и выводим только топ 10 признаков\n",
    "corr_features = corr_matrix[\"target\"].abs().sort_values(ascending=False)[1:11]  "
   ]
  },
  {
   "cell_type": "code",
   "execution_count": 98,
   "id": "7575924c-3890-4f99-bcb9-3e8516bff738",
   "metadata": {
    "scrolled": true
   },
   "outputs": [
    {
     "data": {
      "image/png": "[encoded data removed]",
      "text/plain": [
       "<Figure size 1000x600 with 2 Axes>"
      ]
     },
     "metadata": {},
     "output_type": "display_data"
    }
   ],
   "source": [
    "plt.figure(figsize=(10, 6))\n",
    "sns.heatmap(corr_matrix.loc[corr_features.index, [\"target\"]], annot=True, cmap=\"coolwarm\")\n",
    "plt.title(\"Корреляция признаков с целевой переменной (target)\")\n",
    "plt.show()"
   ]
  },
  {
   "cell_type": "markdown",
   "id": "c90a2c8d-adca-4c85-9718-749eb386a7f8",
   "metadata": {},
   "source": [
    "**Увидим, что значения корреляций в целом не самые плохие, попробуем поработать с такими данными. Перед обучением модели удалим все столбцы, которые бесполезны для модели или могут ее испортить**\n",
    "\n",
    "- столбцы с большим количеством пропусков\n",
    "- столбцы с низкой корреляцией"
   ]
  },
  {
   "cell_type": "code",
   "execution_count": 100,
   "id": "de9b7beb-0980-429f-a0b6-d5e10b077dd6",
   "metadata": {},
   "outputs": [],
   "source": [
    "#удаляем столбцы, где раньше обнаружили много пропусков\n",
    "df = df.drop('battery-capacity', axis = 1)\n",
    "df = df.drop('power-electro-kw', axis = 1)"
   ]
  },
  {
   "cell_type": "code",
   "execution_count": 101,
   "id": "33ea7e00-75f6-410b-b2ec-692dc9f1a25a",
   "metadata": {},
   "outputs": [],
   "source": [
    "#удаляем столбцы с низкой корреляцией\n",
    "corr_matrix = df.corr()\n",
    "target_corr = corr_matrix[\"target\"].abs().sort_values(ascending=False)\n",
    "low_correlation_features = target_corr[target_corr < 0.05].index\n",
    "df.drop(columns=low_correlation_features, inplace=True)"
   ]
  },
  {
   "cell_type": "code",
   "execution_count": 102,
   "id": "261c2445-1dd7-465c-8d43-54556629ff7c",
   "metadata": {
    "id": "261c2445-1dd7-465c-8d43-54556629ff7c"
   },
   "outputs": [],
   "source": [
    "X = df.drop([\"target\"], axis=1)\n",
    "y = df[[\"target\"]]\n",
    "train_X, test_X, train_y, test_y = train_test_split(X, y, test_size=0.33, random_state=42)"
   ]
  },
  {
   "cell_type": "code",
   "execution_count": 103,
   "id": "ff464bd4-90a5-4e19-ab76-b9edc87d7424",
   "metadata": {
    "colab": {
     "base_uri": "https://localhost:8080/",
     "height": 478
    },
    "id": "ff464bd4-90a5-4e19-ab76-b9edc87d7424",
    "outputId": "f886a4a6-a4ee-4d5f-974f-a632cbc81338"
   },
   "outputs": [
    {
     "data": {
      "text/html": [
       "<div>\n",
       "<style scoped>\n",
       "    .dataframe tbody tr th:only-of-type {\n",
       "        vertical-align: middle;\n",
       "    }\n",
       "\n",
       "    .dataframe tbody tr th {\n",
       "        vertical-align: top;\n",
       "    }\n",
       "\n",
       "    .dataframe thead th {\n",
       "        text-align: right;\n",
       "    }\n",
       "</style>\n",
       "<table border=\"1\" class=\"dataframe\">\n",
       "  <thead>\n",
       "    <tr style=\"text-align: right;\">\n",
       "      <th></th>\n",
       "      <th>back-suspension</th>\n",
       "      <th>charge-time</th>\n",
       "      <th>compression</th>\n",
       "      <th>consumption-mixed</th>\n",
       "      <th>cylinders-order</th>\n",
       "      <th>cylinders-value</th>\n",
       "      <th>engine-start</th>\n",
       "      <th>engine-stop</th>\n",
       "      <th>engine-type</th>\n",
       "      <th>gear-type</th>\n",
       "      <th>...</th>\n",
       "      <th>valves</th>\n",
       "      <th>weight</th>\n",
       "      <th>configurations_auto-premiere</th>\n",
       "      <th>configurations_back-wheel-base</th>\n",
       "      <th>configurations_front-brake</th>\n",
       "      <th>configurations_seats</th>\n",
       "      <th>configurations_tank-volume</th>\n",
       "      <th>supergen_year-stop</th>\n",
       "      <th>models_country-from</th>\n",
       "      <th>models_light-and-commercial</th>\n",
       "    </tr>\n",
       "  </thead>\n",
       "  <tbody>\n",
       "    <tr>\n",
       "      <th>22607</th>\n",
       "      <td>3</td>\n",
       "      <td>11636</td>\n",
       "      <td>9.5</td>\n",
       "      <td>7.4</td>\n",
       "      <td>0</td>\n",
       "      <td>4</td>\n",
       "      <td>1997</td>\n",
       "      <td>2000</td>\n",
       "      <td>2</td>\n",
       "      <td>0</td>\n",
       "      <td>...</td>\n",
       "      <td>2</td>\n",
       "      <td>1290.0</td>\n",
       "      <td>11642</td>\n",
       "      <td>1415.0</td>\n",
       "      <td>4</td>\n",
       "      <td>13</td>\n",
       "      <td>50.0</td>\n",
       "      <td>2000.0</td>\n",
       "      <td>16</td>\n",
       "      <td>0</td>\n",
       "    </tr>\n",
       "    <tr>\n",
       "      <th>36531</th>\n",
       "      <td>8</td>\n",
       "      <td>31764</td>\n",
       "      <td>9.0</td>\n",
       "      <td>7.4</td>\n",
       "      <td>0</td>\n",
       "      <td>4</td>\n",
       "      <td>1990</td>\n",
       "      <td>1993</td>\n",
       "      <td>2</td>\n",
       "      <td>1</td>\n",
       "      <td>...</td>\n",
       "      <td>0</td>\n",
       "      <td>935.0</td>\n",
       "      <td>31785</td>\n",
       "      <td>1310.0</td>\n",
       "      <td>1</td>\n",
       "      <td>13</td>\n",
       "      <td>48.0</td>\n",
       "      <td>1996.0</td>\n",
       "      <td>23</td>\n",
       "      <td>0</td>\n",
       "    </tr>\n",
       "    <tr>\n",
       "      <th>24048</th>\n",
       "      <td>8</td>\n",
       "      <td>2773</td>\n",
       "      <td>8.8</td>\n",
       "      <td>6.8</td>\n",
       "      <td>0</td>\n",
       "      <td>4</td>\n",
       "      <td>2009</td>\n",
       "      <td>2012</td>\n",
       "      <td>2</td>\n",
       "      <td>1</td>\n",
       "      <td>...</td>\n",
       "      <td>2</td>\n",
       "      <td>1373.0</td>\n",
       "      <td>2763</td>\n",
       "      <td>1558.0</td>\n",
       "      <td>4</td>\n",
       "      <td>13</td>\n",
       "      <td>56.0</td>\n",
       "      <td>2012.0</td>\n",
       "      <td>10</td>\n",
       "      <td>0</td>\n",
       "    </tr>\n",
       "    <tr>\n",
       "      <th>34819</th>\n",
       "      <td>3</td>\n",
       "      <td>52039</td>\n",
       "      <td>14.0</td>\n",
       "      <td>5.3</td>\n",
       "      <td>0</td>\n",
       "      <td>4</td>\n",
       "      <td>2015</td>\n",
       "      <td>2017</td>\n",
       "      <td>0</td>\n",
       "      <td>1</td>\n",
       "      <td>...</td>\n",
       "      <td>2</td>\n",
       "      <td>1430.0</td>\n",
       "      <td>52081</td>\n",
       "      <td>1590.0</td>\n",
       "      <td>4</td>\n",
       "      <td>13</td>\n",
       "      <td>56.0</td>\n",
       "      <td>2017.0</td>\n",
       "      <td>16</td>\n",
       "      <td>0</td>\n",
       "    </tr>\n",
       "    <tr>\n",
       "      <th>1328</th>\n",
       "      <td>3</td>\n",
       "      <td>20689</td>\n",
       "      <td>18.0</td>\n",
       "      <td>7.5</td>\n",
       "      <td>0</td>\n",
       "      <td>5</td>\n",
       "      <td>2004</td>\n",
       "      <td>2005</td>\n",
       "      <td>0</td>\n",
       "      <td>1</td>\n",
       "      <td>...</td>\n",
       "      <td>2</td>\n",
       "      <td>1485.0</td>\n",
       "      <td>20685</td>\n",
       "      <td>1560.0</td>\n",
       "      <td>4</td>\n",
       "      <td>13</td>\n",
       "      <td>70.0</td>\n",
       "      <td>2009.0</td>\n",
       "      <td>28</td>\n",
       "      <td>0</td>\n",
       "    </tr>\n",
       "    <tr>\n",
       "      <th>...</th>\n",
       "      <td>...</td>\n",
       "      <td>...</td>\n",
       "      <td>...</td>\n",
       "      <td>...</td>\n",
       "      <td>...</td>\n",
       "      <td>...</td>\n",
       "      <td>...</td>\n",
       "      <td>...</td>\n",
       "      <td>...</td>\n",
       "      <td>...</td>\n",
       "      <td>...</td>\n",
       "      <td>...</td>\n",
       "      <td>...</td>\n",
       "      <td>...</td>\n",
       "      <td>...</td>\n",
       "      <td>...</td>\n",
       "      <td>...</td>\n",
       "      <td>...</td>\n",
       "      <td>...</td>\n",
       "      <td>...</td>\n",
       "      <td>...</td>\n",
       "    </tr>\n",
       "    <tr>\n",
       "      <th>6265</th>\n",
       "      <td>6</td>\n",
       "      <td>42729</td>\n",
       "      <td>16.5</td>\n",
       "      <td>4.7</td>\n",
       "      <td>0</td>\n",
       "      <td>4</td>\n",
       "      <td>2017</td>\n",
       "      <td>0</td>\n",
       "      <td>0</td>\n",
       "      <td>2</td>\n",
       "      <td>...</td>\n",
       "      <td>2</td>\n",
       "      <td>1655.0</td>\n",
       "      <td>42742</td>\n",
       "      <td>1630.0</td>\n",
       "      <td>4</td>\n",
       "      <td>13</td>\n",
       "      <td>68.0</td>\n",
       "      <td>2004.0</td>\n",
       "      <td>10</td>\n",
       "      <td>0</td>\n",
       "    </tr>\n",
       "    <tr>\n",
       "      <th>11284</th>\n",
       "      <td>0</td>\n",
       "      <td>46093</td>\n",
       "      <td>8.1</td>\n",
       "      <td>7.4</td>\n",
       "      <td>3</td>\n",
       "      <td>7</td>\n",
       "      <td>1987</td>\n",
       "      <td>1990</td>\n",
       "      <td>2</td>\n",
       "      <td>0</td>\n",
       "      <td>...</td>\n",
       "      <td>0</td>\n",
       "      <td>1398.0</td>\n",
       "      <td>46131</td>\n",
       "      <td>1486.0</td>\n",
       "      <td>4</td>\n",
       "      <td>13</td>\n",
       "      <td>82.0</td>\n",
       "      <td>1996.0</td>\n",
       "      <td>34</td>\n",
       "      <td>0</td>\n",
       "    </tr>\n",
       "    <tr>\n",
       "      <th>38158</th>\n",
       "      <td>3</td>\n",
       "      <td>48819</td>\n",
       "      <td>10.0</td>\n",
       "      <td>7.6</td>\n",
       "      <td>0</td>\n",
       "      <td>4</td>\n",
       "      <td>2018</td>\n",
       "      <td>0</td>\n",
       "      <td>2</td>\n",
       "      <td>0</td>\n",
       "      <td>...</td>\n",
       "      <td>2</td>\n",
       "      <td>1562.0</td>\n",
       "      <td>48858</td>\n",
       "      <td>1636.0</td>\n",
       "      <td>4</td>\n",
       "      <td>13</td>\n",
       "      <td>62.0</td>\n",
       "      <td>2004.0</td>\n",
       "      <td>26</td>\n",
       "      <td>0</td>\n",
       "    </tr>\n",
       "    <tr>\n",
       "      <th>860</th>\n",
       "      <td>10</td>\n",
       "      <td>9346</td>\n",
       "      <td>22.4</td>\n",
       "      <td>7.4</td>\n",
       "      <td>0</td>\n",
       "      <td>4</td>\n",
       "      <td>1992</td>\n",
       "      <td>1995</td>\n",
       "      <td>0</td>\n",
       "      <td>1</td>\n",
       "      <td>...</td>\n",
       "      <td>0</td>\n",
       "      <td>1398.0</td>\n",
       "      <td>9412</td>\n",
       "      <td>1460.0</td>\n",
       "      <td>1</td>\n",
       "      <td>13</td>\n",
       "      <td>50.0</td>\n",
       "      <td>1995.0</td>\n",
       "      <td>16</td>\n",
       "      <td>0</td>\n",
       "    </tr>\n",
       "    <tr>\n",
       "      <th>15795</th>\n",
       "      <td>3</td>\n",
       "      <td>43309</td>\n",
       "      <td>10.1</td>\n",
       "      <td>7.4</td>\n",
       "      <td>3</td>\n",
       "      <td>7</td>\n",
       "      <td>2004</td>\n",
       "      <td>2007</td>\n",
       "      <td>2</td>\n",
       "      <td>2</td>\n",
       "      <td>...</td>\n",
       "      <td>0</td>\n",
       "      <td>1745.0</td>\n",
       "      <td>43285</td>\n",
       "      <td>1559.0</td>\n",
       "      <td>4</td>\n",
       "      <td>8</td>\n",
       "      <td>66.0</td>\n",
       "      <td>2007.0</td>\n",
       "      <td>35</td>\n",
       "      <td>0</td>\n",
       "    </tr>\n",
       "  </tbody>\n",
       "</table>\n",
       "<p>28974 rows × 22 columns</p>\n",
       "</div>"
      ],
      "text/plain": [
       "       back-suspension  charge-time  compression  consumption-mixed  \\\n",
       "22607                3        11636          9.5                7.4   \n",
       "36531                8        31764          9.0                7.4   \n",
       "24048                8         2773          8.8                6.8   \n",
       "34819                3        52039         14.0                5.3   \n",
       "1328                 3        20689         18.0                7.5   \n",
       "...                ...          ...          ...                ...   \n",
       "6265                 6        42729         16.5                4.7   \n",
       "11284                0        46093          8.1                7.4   \n",
       "38158                3        48819         10.0                7.6   \n",
       "860                 10         9346         22.4                7.4   \n",
       "15795                3        43309         10.1                7.4   \n",
       "\n",
       "       cylinders-order  cylinders-value  engine-start  engine-stop  \\\n",
       "22607                0                4          1997         2000   \n",
       "36531                0                4          1990         1993   \n",
       "24048                0                4          2009         2012   \n",
       "34819                0                4          2015         2017   \n",
       "1328                 0                5          2004         2005   \n",
       "...                ...              ...           ...          ...   \n",
       "6265                 0                4          2017            0   \n",
       "11284                3                7          1987         1990   \n",
       "38158                0                4          2018            0   \n",
       "860                  0                4          1992         1995   \n",
       "15795                3                7          2004         2007   \n",
       "\n",
       "       engine-type  gear-type  ...  valves  weight  \\\n",
       "22607            2          0  ...       2  1290.0   \n",
       "36531            2          1  ...       0   935.0   \n",
       "24048            2          1  ...       2  1373.0   \n",
       "34819            0          1  ...       2  1430.0   \n",
       "1328             0          1  ...       2  1485.0   \n",
       "...            ...        ...  ...     ...     ...   \n",
       "6265             0          2  ...       2  1655.0   \n",
       "11284            2          0  ...       0  1398.0   \n",
       "38158            2          0  ...       2  1562.0   \n",
       "860              0          1  ...       0  1398.0   \n",
       "15795            2          2  ...       0  1745.0   \n",
       "\n",
       "       configurations_auto-premiere  configurations_back-wheel-base  \\\n",
       "22607                         11642                          1415.0   \n",
       "36531                         31785                          1310.0   \n",
       "24048                          2763                          1558.0   \n",
       "34819                         52081                          1590.0   \n",
       "1328                          20685                          1560.0   \n",
       "...                             ...                             ...   \n",
       "6265                          42742                          1630.0   \n",
       "11284                         46131                          1486.0   \n",
       "38158                         48858                          1636.0   \n",
       "860                            9412                          1460.0   \n",
       "15795                         43285                          1559.0   \n",
       "\n",
       "       configurations_front-brake  configurations_seats  \\\n",
       "22607                           4                    13   \n",
       "36531                           1                    13   \n",
       "24048                           4                    13   \n",
       "34819                           4                    13   \n",
       "1328                            4                    13   \n",
       "...                           ...                   ...   \n",
       "6265                            4                    13   \n",
       "11284                           4                    13   \n",
       "38158                           4                    13   \n",
       "860                             1                    13   \n",
       "15795                           4                     8   \n",
       "\n",
       "       configurations_tank-volume  supergen_year-stop  models_country-from  \\\n",
       "22607                        50.0              2000.0                   16   \n",
       "36531                        48.0              1996.0                   23   \n",
       "24048                        56.0              2012.0                   10   \n",
       "34819                        56.0              2017.0                   16   \n",
       "1328                         70.0              2009.0                   28   \n",
       "...                           ...                 ...                  ...   \n",
       "6265                         68.0              2004.0                   10   \n",
       "11284                        82.0              1996.0                   34   \n",
       "38158                        62.0              2004.0                   26   \n",
       "860                          50.0              1995.0                   16   \n",
       "15795                        66.0              2007.0                   35   \n",
       "\n",
       "       models_light-and-commercial  \n",
       "22607                            0  \n",
       "36531                            0  \n",
       "24048                            0  \n",
       "34819                            0  \n",
       "1328                             0  \n",
       "...                            ...  \n",
       "6265                             0  \n",
       "11284                            0  \n",
       "38158                            0  \n",
       "860                              0  \n",
       "15795                            0  \n",
       "\n",
       "[28974 rows x 22 columns]"
      ]
     },
     "execution_count": 103,
     "metadata": {},
     "output_type": "execute_result"
    }
   ],
   "source": [
    "train_X"
   ]
  },
  {
   "cell_type": "code",
   "execution_count": 104,
   "id": "9b2185ba-3b32-4aa6-bcde-6979aa1f3cdb",
   "metadata": {
    "id": "9b2185ba-3b32-4aa6-bcde-6979aa1f3cdb"
   },
   "outputs": [],
   "source": [
    "reg = LinearRegression().fit(train_X, train_y)"
   ]
  },
  {
   "cell_type": "code",
   "execution_count": 105,
   "id": "cc234e4f-9fae-4487-848d-6d73c9f922ec",
   "metadata": {
    "colab": {
     "base_uri": "https://localhost:8080/"
    },
    "id": "cc234e4f-9fae-4487-848d-6d73c9f922ec",
    "outputId": "2a7fe6ad-56cc-4016-82bd-54f4a76593dc"
   },
   "outputs": [
    {
     "data": {
      "text/plain": [
       "0.5816819881232997"
      ]
     },
     "execution_count": 105,
     "metadata": {},
     "output_type": "execute_result"
    }
   ],
   "source": [
    "reg.score(train_X, train_y)"
   ]
  },
  {
   "cell_type": "code",
   "execution_count": 106,
   "id": "0c088b49-4516-4abb-820a-aadaaf26b8c5",
   "metadata": {
    "colab": {
     "base_uri": "https://localhost:8080/"
    },
    "id": "0c088b49-4516-4abb-820a-aadaaf26b8c5",
    "outputId": "559eb03d-795b-4910-b97a-944fb10c261d"
   },
   "outputs": [
    {
     "data": {
      "text/plain": [
       "0.588714643602881"
      ]
     },
     "execution_count": 106,
     "metadata": {},
     "output_type": "execute_result"
    }
   ],
   "source": [
    "reg.score(test_X, test_y)"
   ]
  },
  {
   "cell_type": "code",
   "execution_count": 107,
   "id": "06bd1b1d-3d5a-4c8b-aaf2-db6167e88c38",
   "metadata": {
    "colab": {
     "base_uri": "https://localhost:8080/"
    },
    "id": "06bd1b1d-3d5a-4c8b-aaf2-db6167e88c38",
    "outputId": "2b5b1edd-bef2-417e-f8e3-94eb95bd8a6f"
   },
   "outputs": [
    {
     "data": {
      "text/plain": [
       "22926.708576727826"
      ]
     },
     "execution_count": 107,
     "metadata": {},
     "output_type": "execute_result"
    }
   ],
   "source": [
    "mean_squared_error(reg.predict(train_X), train_y)"
   ]
  },
  {
   "cell_type": "code",
   "execution_count": 108,
   "id": "0a52517d-4ce1-49da-97af-4bfcfa996382",
   "metadata": {
    "colab": {
     "base_uri": "https://localhost:8080/"
    },
    "id": "0a52517d-4ce1-49da-97af-4bfcfa996382",
    "outputId": "95b5e05a-c30c-4ce9-cbf5-1db811f6db80"
   },
   "outputs": [
    {
     "data": {
      "text/plain": [
       "23830.919913059035"
      ]
     },
     "execution_count": 108,
     "metadata": {},
     "output_type": "execute_result"
    }
   ],
   "source": [
    "mean_squared_error(reg.predict(test_X), test_y)"
   ]
  },
  {
   "cell_type": "markdown",
   "id": "b25d930f-5ba4-4d8b-bba9-9ac3551201ad",
   "metadata": {
    "id": "31d28a2a-1f06-4f68-9969-dcf29de2b633"
   },
   "source": [
    "Выводы:\n",
    "\n",
    "Улучшение модели действительно произошло\n",
    "\n",
    "- R^2 train 45.55% -> 58,16%\n",
    "- R^2 test 46.46% -> 58.87%\n",
    "\n",
    "Конечно, это тоже далеко не идеальный результат, но уже больше приближен к хорошей модели. Т.к. у данных нет описания, делать какие-то преобразования довольно сложно (выбросы, аномалии, ошибка в записях и т.д) и не факт, что приведет к правильному результату. \n",
    "\n",
    "Поэтому просто ради интереса проведем еще тест с рандомным лесом, который устойчив к \"сырым\" данным и умеет работать с данными без линейной зависимости"
   ]
  },
  {
   "cell_type": "code",
   "execution_count": 110,
   "id": "908636f9-e94a-4921-9d37-8fb6dad92e7f",
   "metadata": {},
   "outputs": [
    {
     "name": "stderr",
     "output_type": "stream",
     "text": [
      "/opt/conda/envs/anaconda-panel-2023.05-py310/lib/python3.11/site-packages/sklearn/base.py:1151: DataConversionWarning: A column-vector y was passed when a 1d array was expected. Please change the shape of y to (n_samples,), for example using ravel().\n",
      "  return fit_method(estimator, *args, **kwargs)\n"
     ]
    }
   ],
   "source": [
    "from sklearn.ensemble import RandomForestRegressor\n",
    "from sklearn.metrics import mean_absolute_error, mean_squared_error, r2_score\n",
    "\n",
    "rf_model = RandomForestRegressor(n_estimators=100, random_state=42)\n",
    "rf_model.fit(train_X, train_y)\n",
    "\n",
    "y_pred_rf = rf_model.predict(test_X)"
   ]
  },
  {
   "cell_type": "code",
   "execution_count": 111,
   "id": "7f50654c-8b44-4db9-aadc-e7cc8a37194c",
   "metadata": {},
   "outputs": [
    {
     "name": "stdout",
     "output_type": "stream",
     "text": [
      "MSE равно 3113.684606\n",
      "R^2 равно 0.946263\n"
     ]
    }
   ],
   "source": [
    "mse_rf = mean_squared_error(test_y, y_pred_rf)\n",
    "r2_rf = r2_score(test_y, y_pred_rf)\n",
    "\n",
    "print(f'MSE равно {mse_rf:.6f}')\n",
    "print(f'R^2 равно {r2_rf:.6f}')"
   ]
  },
  {
   "cell_type": "markdown",
   "id": "7abef621-4b23-4abf-9edd-e4f2f88e6e2d",
   "metadata": {},
   "source": [
    "Рандомный лес и правда очень хорошо сработал, но R^2 настораживает и тут. 94,6% довольно много, есть вероятность, что модель переобучается"
   ]
  },
  {
   "cell_type": "code",
   "execution_count": null,
   "id": "604d22a6-63e5-4c14-af74-cf725a4c2e7e",
   "metadata": {},
   "outputs": [],
   "source": []
  }
 ],
 "metadata": {
  "colab": {
   "provenance": []
  },
  "kernelspec": {
   "display_name": "anaconda-panel-2023.05-py310",
   "language": "python",
   "name": "conda-env-anaconda-panel-2023.05-py310-py"
  },
  "language_info": {
   "codemirror_mode": {
    "name": "ipython",
    "version": 3
   },
   "file_extension": ".py",
   "mimetype": "text/x-python",
   "name": "python",
   "nbconvert_exporter": "python",
   "pygments_lexer": "ipython3",
   "version": "3.11.5"
  }
 },
 "nbformat": 4,
 "nbformat_minor": 5
}
